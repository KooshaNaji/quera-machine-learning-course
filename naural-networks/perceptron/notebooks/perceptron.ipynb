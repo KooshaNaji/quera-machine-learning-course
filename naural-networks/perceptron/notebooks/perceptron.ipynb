{
 "cells": [
  {
   "cell_type": "markdown",
   "id": "d333515a",
   "metadata": {},
   "source": [
    "<h1 align=center style=\"line-height:200%;font-family:vazir;color:#0099cc\">\n",
    "<font face=\"vazir\" color=\"#0099cc\">\n",
    "پرسپترون\n",
    "</font>\n",
    "</h1>"
   ]
  },
  {
   "cell_type": "markdown",
   "id": "6ed20bff",
   "metadata": {},
   "source": [
    "<h2 align=right style=\"line-height:200%;font-family:vazir;color:#0099cc\">\n",
    "<font face=\"vazir\" color=\"#0099cc\">\n",
    "مقدمه و صورت مسئله\n",
    "</font>\n",
    "</h2>\n",
    "\n",
    "<p dir=rtl style=\"direction: rtl; text-align: justify; line-height:200%; font-family:vazir; font-size:medium\">\n",
    "<font face=\"vazir\" size=3>\n",
    "    به یک تمرین اساسی از پایه‌ای‌ترین مباحث شبکه‌های عصبی خوش آمدید! در این تمرین رویکرد متفاوتی را در پیش خواهیم گرفت و قصد داریم ساختار پرسپترون و الگوریتم آموزش آن را که در درسنامه‌های پیشین آموختید مستقیماً پیاده‌سازی کنیم. کدنویسی در این سطح به شما کمک خواهد کرد که به شکل عملی درک عمیق‌تری از نحوه‌ی کار این مدل پیدا کنید و در آینده نیز هنگام مواجه با مدل‌های مختلف شبکه‌های عصبی قادر به تحلیل آسان‌تر ساختار آن‌ها باشید. پس از طراحی پرسپترون، آن را روی مجموعه‌داده‌ی مشهور <i>گل‌های زنبق (iris)</i> آموزش داده و عملکرد دو روش مختلف آموزش پرسپترون، یعنی قاعده‌ی پرسپترون و قاعده‌ی دلتا را بر روی این مجموعه‌داده ارزیابی خواهیم کرد.\n",
    "</font>\n",
    "</p>"
   ]
  },
  {
   "cell_type": "markdown",
   "id": "c5af1784",
   "metadata": {},
   "source": [
    "<h2 align=right style=\"line-height:200%;font-family:vazir;color:#0099cc\">\n",
    "<font face=\"vazir\" color=\"#0099cc\">\n",
    "وارد کردن کتابخانه‌های مورد نیاز\n",
    "</font>\n",
    "</h2>\n",
    "\n",
    "<p dir=rtl style=\"direction: rtl; text-align: justify; line-height:200%; font-family:vazir; font-size:medium\">\n",
    "<font face=\"vazir\" size=3>\n",
    "    ابتدا کتابخانه‌های مورد نیازتان را وارد کنید.\n",
    "</font>\n",
    "</p>"
   ]
  },
  {
   "cell_type": "code",
   "execution_count": 1,
   "id": "99450f9e",
   "metadata": {},
   "outputs": [],
   "source": [
    "import json\n",
    "import numpy as np\n",
    "import pandas as pd\n",
    "from sklearn.metrics import accuracy_score\n",
    "from inspect import getsource\n",
    "import warnings\n",
    "warnings.filterwarnings(\"ignore\")"
   ]
  },
  {
   "cell_type": "markdown",
   "id": "72faaed8",
   "metadata": {},
   "source": [
    "<h2 align=right style=\"line-height:200%;font-family:vazir;color:#0099cc\">\n",
    "<font face=\"vazir\" color=\"#0099cc\">\n",
    "معرفی مجموعه‌داده\n",
    "</font>\n",
    "</h2>\n",
    "\n",
    "<p dir=rtl style=\"direction: rtl; text-align: justify; line-height:200%; font-family:vazir; font-size:medium\">\n",
    "<font face=\"vazir\" size=3>\n",
    "در این تمرین از مجموعه‌‌داده‌ی ساده اما مشهور گل‌های زنبق (iris) استفاده خواهیم کرد. این مجموعه‌داده شامل سه دسته (نوع گیاه) است که از هر دسته 50 نمونه داده وجود دارد. هر داده دارای یک برچسب و چهار ویژگی است که در جدول زیر معرفی شده‌اند.\n",
    "</font>\n",
    "</p>\n",
    "\n",
    "<center>\n",
    "<div dir=rtl style=\"direction: rtl;line-height:200%;font-family:vazir;font-size:medium\">\n",
    "<font face=\"vazir\" size=3>\n",
    "    \n",
    "|ستون|توضیحات|\n",
    "|:------:|:---:|\n",
    "|SepalLengthCm|طول کاسبرگ (سانتی‌متر)|\n",
    "|SepalWidthCm|عرض کاسبرگ (سانتی‌متر)|\n",
    "|PetalLengthCm|طول گلبرگ (سانتی‌متر)|\n",
    "|PetalWidthCm|عرض گلبرگ (سانتی‌متر)|\n",
    "|Species|نوع گیاه (متغیر هدف)|\n",
    "\n",
    "</font>\n",
    "</div>\n",
    "</center>"
   ]
  },
  {
   "cell_type": "markdown",
   "id": "e99bbe9b",
   "metadata": {},
   "source": [
    "<h2 align=right style=\"line-height:200%;font-family:vazir;color:#0099cc\">\n",
    "<font face=\"vazir\" color=\"#0099cc\">\n",
    "خواندن مجموعه داده\n",
    "</font>\n",
    "</h2>\n",
    "\n",
    "<p dir=rtl style=\"direction: rtl; text-align: justify; line-height:200%; font-family:vazir; font-size:medium\">\n",
    "<font face=\"vazir\" size=3>\n",
    "    در ابتدا نیاز است فایل‌ مجموعه‌داده را بخوانید. برای این تمرین مجموعه‌ی آزمونی در نظر گرفته نشده و هدف تنها پیاده‌سازی و تحلیل مدل است. بنابراین کل مجموعه‌داده را می‌توانید از فایل <code>iris.csv</code> موجود در پوشه‌ی مسئله خوانده و از نمونه‌های موجود در آن برای آموزش پرسپترون استفاده کنید. توجه داشته باشید که نیازی به ستون <code>Id</code> ندارید و می‌توانید آن را از دیتافریم خود حذف کنید.\n",
    "</font>\n",
    "</p>"
   ]
  },
  {
   "cell_type": "code",
   "execution_count": 2,
   "id": "7dcb9e87",
   "metadata": {},
   "outputs": [],
   "source": [
    "train_data = pd.read_csv('../data/iris.csv') # To-Do"
   ]
  },
  {
   "cell_type": "code",
   "execution_count": 3,
   "id": "f31a858a",
   "metadata": {},
   "outputs": [
    {
     "data": {
      "text/html": [
       "<div>\n",
       "<style scoped>\n",
       "    .dataframe tbody tr th:only-of-type {\n",
       "        vertical-align: middle;\n",
       "    }\n",
       "\n",
       "    .dataframe tbody tr th {\n",
       "        vertical-align: top;\n",
       "    }\n",
       "\n",
       "    .dataframe thead th {\n",
       "        text-align: right;\n",
       "    }\n",
       "</style>\n",
       "<table border=\"1\" class=\"dataframe\">\n",
       "  <thead>\n",
       "    <tr style=\"text-align: right;\">\n",
       "      <th></th>\n",
       "      <th>Id</th>\n",
       "      <th>SepalLengthCm</th>\n",
       "      <th>SepalWidthCm</th>\n",
       "      <th>PetalLengthCm</th>\n",
       "      <th>PetalWidthCm</th>\n",
       "      <th>Species</th>\n",
       "    </tr>\n",
       "  </thead>\n",
       "  <tbody>\n",
       "    <tr>\n",
       "      <th>0</th>\n",
       "      <td>1</td>\n",
       "      <td>5.1</td>\n",
       "      <td>3.5</td>\n",
       "      <td>1.4</td>\n",
       "      <td>0.2</td>\n",
       "      <td>Iris-setosa</td>\n",
       "    </tr>\n",
       "    <tr>\n",
       "      <th>1</th>\n",
       "      <td>2</td>\n",
       "      <td>4.9</td>\n",
       "      <td>3.0</td>\n",
       "      <td>1.4</td>\n",
       "      <td>0.2</td>\n",
       "      <td>Iris-setosa</td>\n",
       "    </tr>\n",
       "    <tr>\n",
       "      <th>2</th>\n",
       "      <td>3</td>\n",
       "      <td>4.7</td>\n",
       "      <td>3.2</td>\n",
       "      <td>1.3</td>\n",
       "      <td>0.2</td>\n",
       "      <td>Iris-setosa</td>\n",
       "    </tr>\n",
       "    <tr>\n",
       "      <th>3</th>\n",
       "      <td>4</td>\n",
       "      <td>4.6</td>\n",
       "      <td>3.1</td>\n",
       "      <td>1.5</td>\n",
       "      <td>0.2</td>\n",
       "      <td>Iris-setosa</td>\n",
       "    </tr>\n",
       "    <tr>\n",
       "      <th>4</th>\n",
       "      <td>5</td>\n",
       "      <td>5.0</td>\n",
       "      <td>3.6</td>\n",
       "      <td>1.4</td>\n",
       "      <td>0.2</td>\n",
       "      <td>Iris-setosa</td>\n",
       "    </tr>\n",
       "    <tr>\n",
       "      <th>5</th>\n",
       "      <td>6</td>\n",
       "      <td>5.4</td>\n",
       "      <td>3.9</td>\n",
       "      <td>1.7</td>\n",
       "      <td>0.4</td>\n",
       "      <td>Iris-setosa</td>\n",
       "    </tr>\n",
       "    <tr>\n",
       "      <th>6</th>\n",
       "      <td>7</td>\n",
       "      <td>4.6</td>\n",
       "      <td>3.4</td>\n",
       "      <td>1.4</td>\n",
       "      <td>0.3</td>\n",
       "      <td>Iris-setosa</td>\n",
       "    </tr>\n",
       "    <tr>\n",
       "      <th>7</th>\n",
       "      <td>8</td>\n",
       "      <td>5.0</td>\n",
       "      <td>3.4</td>\n",
       "      <td>1.5</td>\n",
       "      <td>0.2</td>\n",
       "      <td>Iris-setosa</td>\n",
       "    </tr>\n",
       "    <tr>\n",
       "      <th>8</th>\n",
       "      <td>9</td>\n",
       "      <td>4.4</td>\n",
       "      <td>2.9</td>\n",
       "      <td>1.4</td>\n",
       "      <td>0.2</td>\n",
       "      <td>Iris-setosa</td>\n",
       "    </tr>\n",
       "    <tr>\n",
       "      <th>9</th>\n",
       "      <td>10</td>\n",
       "      <td>4.9</td>\n",
       "      <td>3.1</td>\n",
       "      <td>1.5</td>\n",
       "      <td>0.1</td>\n",
       "      <td>Iris-setosa</td>\n",
       "    </tr>\n",
       "  </tbody>\n",
       "</table>\n",
       "</div>"
      ],
      "text/plain": [
       "   Id  SepalLengthCm  SepalWidthCm  PetalLengthCm  PetalWidthCm      Species\n",
       "0   1            5.1           3.5            1.4           0.2  Iris-setosa\n",
       "1   2            4.9           3.0            1.4           0.2  Iris-setosa\n",
       "2   3            4.7           3.2            1.3           0.2  Iris-setosa\n",
       "3   4            4.6           3.1            1.5           0.2  Iris-setosa\n",
       "4   5            5.0           3.6            1.4           0.2  Iris-setosa\n",
       "5   6            5.4           3.9            1.7           0.4  Iris-setosa\n",
       "6   7            4.6           3.4            1.4           0.3  Iris-setosa\n",
       "7   8            5.0           3.4            1.5           0.2  Iris-setosa\n",
       "8   9            4.4           2.9            1.4           0.2  Iris-setosa\n",
       "9  10            4.9           3.1            1.5           0.1  Iris-setosa"
      ]
     },
     "execution_count": 3,
     "metadata": {},
     "output_type": "execute_result"
    }
   ],
   "source": [
    "train_data.head(10)"
   ]
  },
  {
   "cell_type": "code",
   "execution_count": 4,
   "id": "1617a7d7",
   "metadata": {},
   "outputs": [
    {
     "data": {
      "text/plain": [
       "array(['Iris-setosa', 'Iris-versicolor', 'Iris-virginica'], dtype=object)"
      ]
     },
     "execution_count": 4,
     "metadata": {},
     "output_type": "execute_result"
    }
   ],
   "source": [
    "train_data['Species'].unique()"
   ]
  },
  {
   "cell_type": "markdown",
   "id": "23daec54",
   "metadata": {},
   "source": [
    "<h2 align=right style=\"line-height:200%;font-family:vazir;color:#0099cc\">\n",
    "<font face=\"vazir\" color=\"#0099cc\">\n",
    "پیش‌پردازش و مهندسی ویژگی\n",
    "</font>\n",
    "</h2>\n",
    "\n",
    "<p dir=rtl style=\"direction: rtl; text-align: justify; line-height:200%; font-family:vazir; font-size:medium\">\n",
    "<font face=\"vazir\" size=3>\n",
    "    اگر به مقادیر ستون <code>Species</code> نگاه کرده باشید، دریافته‌اید که این مجموعه‌داده دارای سه کلاس <code>Iris-setosa</code> ،<code>Iris-versicolor</code> و <code>Iris-virginica</code> است.\n",
    "    <br>\n",
    "    از آنجا که یک پرسپترون واحد قادر به دسته‌بندی دوکلاسه هست در این تمرین قصد داریم سه مدل مختلف را آموزش دهیم که هرکدام از آن‌ها بین یک ترکیب دوتایی از سه دسته ممکن تصمیم‌گیری می‌کند. یعنی قرار است تا سه پرسپترون را به شکل زیر آموزش دهیم:\n",
    "</font>\n",
    "</p>\n",
    "<ul dir=rtl style=\"direction: rtl; text-align: justify; line-height:200%; font-family:vazir; font-size:medium\">\n",
    "<font face=\"vazir\" size=3>\n",
    "    <li>تصمیم‌گیری بین دو دسته‌ی <code>Iris-setosa</code> و <code>Iris-versicolor</code></li>\n",
    "    <li>تصمیم‌گیری بین دو دسته‌ی <code>Iris-setosa</code> و <code>Iris-virginica</code></li>\n",
    "    <li>تصمیم‌گیری بین دو دسته‌ی <code>Iris-versicolor</code> و <code>Iris-virginica</code></li>\n",
    "</font>\n",
    "</ul>\n",
    "<p dir=rtl style=\"direction: rtl; text-align: justify; line-height:200%; font-family:vazir; font-size:medium\">\n",
    "<font face=\"vazir\" size=3>\n",
    "    این امر همچنین به ما کمک می‌کند تا به‌صورت تجربی کشف کنیم که کدام دسته از سایر دسته‌ها به‌صورت خطی تفکیک‌پذیر است.\n",
    "</font>\n",
    "<p dir=rtl style=\"direction: rtl; text-align: justify; line-height:200%; font-family:vazir; font-size:medium\">\n",
    "<font face=\"vazir\" size=3>\n",
    "    بنابراین از شما خواسته می‌شود که دیتافریم اصلی را به سه دیتافریم کوچک‌تر (با نام‌های <code>df2</code> ،<code>df1</code> و <code>df3</code>) تقسیم کنید، به شکلی که در هر دیتافریم تنها نمونه‌های مربوط به یکی از حالت‌های لیست بالا وجود داشته باشد. به عنوان مثال در دیتافریم نخست یعنی <code>df1</code> تنها نمونه‌های حالت اول یعنی دسته‌های <code>Iris-setosa</code> و <code>Iris-versicolor</code> وجود داشته باشد.\n",
    "</font>"
   ]
  },
  {
   "cell_type": "code",
   "execution_count": 5,
   "id": "f7c23000",
   "metadata": {},
   "outputs": [],
   "source": [
    "df1 = train_data[train_data.Species.isin(['Iris-setosa', 'Iris-versicolor'])] # To-Do\n",
    "\n",
    "df2 = train_data[train_data.Species.isin(['Iris-setosa', 'Iris-virginica'])] # To-Do\n",
    "\n",
    "df3 = train_data[train_data.Species.isin(['Iris-versicolor', 'Iris-virginica'])] # To-Do"
   ]
  },
  {
   "cell_type": "markdown",
   "id": "9d0927d1",
   "metadata": {},
   "source": [
    "<p dir=rtl style=\"direction: rtl; text-align: justify; line-height:200%; font-family:vazir; font-size:medium\">\n",
    "<font face=\"vazir\" size=3>\n",
    "کد زیر دیتافریم‌های شما را ذخیره می‌کند تا در انتهای نت‌بوک به فایل جواب شما اضافه شود. سه دیتافریم بالا از نظر تعداد نمونه، ستون‌ها و مقادیر موجود در ستون <code>Species</code> داوری خواهند شد. نیازی به تغییر کد نیست و کافیست تنها سلول را اجرا نمایید.\n",
    "</font>"
   ]
  },
  {
   "cell_type": "code",
   "execution_count": 6,
   "id": "211597d7",
   "metadata": {},
   "outputs": [
    {
     "name": "stdout",
     "output_type": "stream",
     "text": [
      "<class 'pandas.core.frame.DataFrame'>\n",
      "RangeIndex: 150 entries, 0 to 149\n",
      "Data columns (total 6 columns):\n",
      " #   Column         Non-Null Count  Dtype  \n",
      "---  ------         --------------  -----  \n",
      " 0   Id             150 non-null    int64  \n",
      " 1   SepalLengthCm  150 non-null    float64\n",
      " 2   SepalWidthCm   150 non-null    float64\n",
      " 3   PetalLengthCm  150 non-null    float64\n",
      " 4   PetalWidthCm   150 non-null    float64\n",
      " 5   Species        150 non-null    object \n",
      "dtypes: float64(4), int64(1), object(1)\n",
      "memory usage: 7.2+ KB\n"
     ]
    }
   ],
   "source": [
    "train_data.info()"
   ]
  },
  {
   "cell_type": "markdown",
   "id": "0923ecf5",
   "metadata": {},
   "source": [
    "<p dir=rtl style=\"direction: rtl; text-align: justify; line-height:200%; font-family:vazir; font-size:medium\">\n",
    "<font face=\"vazir\" size=3>\n",
    "    اکنون اگر قصد دارید می‌توانید پیش‌پردازش‌های دلخواه خود را بر روی مقادیر ویژگی‌ها انجام دهید. همچنین توجه داشته باشید مقادیر ستون برچسب را باید به شکل اعداد <code dir=ltr>+1</code> و <code dir=ltr>-1</code> کدگذاری کنید. علاوه بر این فراموش نکنید که ستون‌های ویژگی را از ستون متغیر هدف (برچسب) جدا کنید.\n",
    "</font>"
   ]
  },
  {
   "cell_type": "code",
   "execution_count": 7,
   "id": "44c5dd38",
   "metadata": {},
   "outputs": [],
   "source": [
    "df1.drop(columns='Id', axis=1, inplace=True)\n",
    "df2.drop(columns='Id', axis=1, inplace=True)\n",
    "df3.drop(columns='Id', axis=1, inplace=True)"
   ]
  },
  {
   "cell_type": "code",
   "execution_count": 8,
   "id": "704751ee",
   "metadata": {},
   "outputs": [],
   "source": [
    "df1.to_csv('df1.csv', index=False)\n",
    "df2.to_csv('df2.csv', index=False)\n",
    "df3.to_csv('df3.csv', index=False)"
   ]
  },
  {
   "cell_type": "code",
   "execution_count": 9,
   "id": "8548fb1f",
   "metadata": {},
   "outputs": [],
   "source": [
    "species_dict_df1 = {'Iris-setosa':-1 , 'Iris-versicolor':1}\n",
    "df1.Species = df1.Species.map(species_dict_df1)\n",
    "\n",
    "species_dict_df2 = {'Iris-setosa':-1 , 'Iris-virginica':1}\n",
    "df2.Species = df2.Species.map(species_dict_df2)\n",
    "\n",
    "species_dict_df3 = {'Iris-versicolor':-1 , 'Iris-virginica':1}\n",
    "df3.Species = df3.Species.map(species_dict_df3)\n"
   ]
  },
  {
   "cell_type": "code",
   "execution_count": 10,
   "id": "88951cb0",
   "metadata": {},
   "outputs": [],
   "source": [
    "df1_target = df1['Species']\n",
    "df1.drop(columns='Species', axis=1, inplace=True)\n",
    "\n",
    "df2_target = df2['Species']\n",
    "df2.drop(columns='Species', axis=1, inplace=True)\n",
    "\n",
    "df3_target = df3['Species']\n",
    "df3.drop(columns='Species', axis=1, inplace=True)"
   ]
  },
  {
   "cell_type": "code",
   "execution_count": 11,
   "id": "1144612e",
   "metadata": {},
   "outputs": [],
   "source": [
    "from sklearn.preprocessing import StandardScaler\n",
    "\n",
    "scaler = StandardScaler()\n",
    "df1 = scaler.fit_transform(df1)\n",
    "df2 = scaler.fit_transform(df2)\n",
    "df3 = scaler.fit_transform(df3)"
   ]
  },
  {
   "cell_type": "markdown",
   "id": "f99f2c94",
   "metadata": {},
   "source": [
    "<h2 align=right style=\"line-height:200%;font-family:vazir;color:#0099cc\">\n",
    "<font face=\"vazir\" color=\"#0099cc\">\n",
    "مدل‌سازی\n",
    "</font>\n",
    "</h2>\n",
    "\n",
    "<p dir=rtl style=\"direction: rtl; text-align: justify; line-height:200%; font-family:vazir; font-size:medium\">\n",
    "<font face=\"vazir\" size=3>\n",
    "    اکنون که داده‌ها را پردازش و آماده کردید نوبت به قسمت اصلی یعنی مدل می‌رسد. همانطور که در ابتدا ذکر کردیم در این تمرین دیگر خبری از کتابخانه‌ی آماده‌ی <code>scikit-learn</code> نیست. در اینجا از شما خواسته شده تا یک مدل ساده‌ی پرسپترون را به دو حالت (قاعده‌ی پرسپترون و قاعده‌ی دلتا) از صفر پیاده کنید. برای این کار قدم به قدم هر جزء این مدل را شرح خواهیم داد تا نسبت به پیاده‌‌سازی آن اقدام کنید.\n",
    "    <br>\n",
    "    <b>نکته: </b>\n",
    "    در اعمال ریاضی و محاسباتی خود تنها از کتابخانه‌ی نامپای استفاده کنید و لیست‌های خود را نیز به شکل آرایه‌ی نامپای تعریف کنید.\n",
    "    <br>\n",
    "</font>\n",
    "</p>\n"
   ]
  },
  {
   "cell_type": "markdown",
   "id": "23321043",
   "metadata": {},
   "source": [
    "<h3 align=right style=\"line-height:200%;font-family:vazir;color:#0099cc\">\n",
    "<font face=\"vazir\" color=\"#0099cc\">\n",
    "قاعده‌ی پرسپترون\n",
    "</font>\n",
    "</h3>\n",
    "<center>\n",
    "    <img src=\"perceptron_rule.png\">\n",
    "<center>\n",
    "<p dir=rtl style=\"direction: rtl; text-align: justify; line-height:200%; font-family:vazir; font-size:medium\">\n",
    "<font face=\"vazir\">\n",
    "    به منظور پیاده‌سازی مدل،‌ کلاسی با نام <code>Perceptron</code> تعریف خواهیم کرد که در هنگام ساخته شدن (<code>__init__</code>) یک ویژگی مرتبط با وزن‌ها را با نام <code>weights</code> به این کلاس اضافه می‌کند. بنابراین در هنگام پیاده‌سازی توابع جهت دسترسی به وزن‌های پرسپترون می‌توانید از <code>self.weights</code> استفاده کنید.\n",
    "    <br>\n",
    "    اکنون هرکدام از توابع مورد نیاز این کلاس را شرح خواهیم داد تا شما به پیاده‌سازی آن‌ها بپردازید:\n",
    "    <br>\n",
    "    <ul dir=rtl style=\"direction: rtl; text-align: justify; line-height:200%; font-family:vazir; font-size:medium\">\n",
    "        <li>\n",
    "        تابع <code>weighting</code> مقادیر ویژگی‌های یک نمونه را گرفته و آن را در بردار وزن ضرب نقطه‌ای می‌کند. سپس ورودی وزن‌دار شده به عنوان خروجی برگردانده می‌شود.\n",
    "        </li>\n",
    "        <li>\n",
    "        در تابعی به نام <code>activation</code> تابع فعال‌ساز را که در اینجا تابع علامت است پیاده خواهیم کرد. این تابع، ورودی وزن‌دار را گرفته و در صورتیکه حاصل بیشتر یا مساوی صفر بود خروجی <code>1</code> و در غیر این‌صورت خروجی <code dir=ltr>-1</code> تولید می‌کند.\n",
    "        </li>\n",
    "        <li>\n",
    "        تابع <code>predict</code> آرایه‌ای از نمونه‌ها را گرفته و آرایه‌ای شامل برچسب پیش‌بینی‌شده برای هرکدام از نمونه‌ها را بر می‌گرداند. در این تابع باید به ازای هر نمونه ابتدا آن را به کمک تابع <code>weighting</code> وزن دار کنید و حاصل را به تابع <code>activation</code> بدهید تا برچسب <code dir=ltr>+1</code> یا <code dir=ltr>-1</code> را برای نمونه تولید کند.\n",
    "        </li>\n",
    "        <li>\n",
    "        الگوریتم اصلی پرسپترون در واقع در تابع <code>fit</code> پیاده می‌شود. این تابع ورودی‌ها و هایپرپارامترهای زیر را گرفته و سپس طبق مراحلی که شرح خواهیم داد شروع به آموزش [وزن‌های] پرسپترون می‌کند.\n",
    "        </li>\n",
    "    </ul>\n",
    "</font>\n",
    "</p>\n",
    "\n",
    "<center>\n",
    "<div dir=rtl style=\"direction: rtl;line-height:200%;font-family:vazir;font-size:medium\">\n",
    "<font face=\"vazir\" size=3>\n",
    "    \n",
    "|ورودی|توضیحات|\n",
    "|:------:|:---:|\n",
    "|inputs|ویژگی‌های ورودی نمونه‌های آموزشی|\n",
    "|outputs|متغیر هدف (برچسب) نمونه‌‌های آموزشی|\n",
    "|learning_rate|نرخ یادگیری (η)|\n",
    "|epochs|تعداد دفعات آموزش بر روی تمام نمونه‌ها|\n",
    "\n",
    "</font>\n",
    "</div>\n",
    "</center>\n",
    "\n",
    "<p dir=rtl style=\"direction: rtl; text-align: justify; line-height:200%; font-family:vazir; font-size:medium; padding-right:40px;\">\n",
    "<font face=\"vazir\">\n",
    "در درسنامه‌ی پرسپترون اشاره کردیم که عبارت بایاس را می‌توان به کمک اضافه کردن یک ورودی ثابت <code>1</code> به ویژگی‌های ورودی تعبیه کرد. بنابراین در تابع <code>fit</code> ابتدا به اول ویژگی‌های هرکدام از نمونه‌ها عدد <code>1</code> را اضافه کنید (به عنوان مثال برای نمونه‌ی <code>inputs[i]</code>، باید <code>inputs[i][0]</code> برابر <code>1</code> باشد). با این کار یک واحد به طول بردار ویژگی نمونه‌ها اضافه خواهد شد. (فراموش نکنید که این کار را در هنگام پیش‌بینی یعنی تابع predict نیز باید انجام دهید.)\n",
    "<br>\n",
    "پس از آن نیاز است تا بردار وزن یعنی <code>self.weights</code> را ساخته و مقداردهی کنید. برای مقداردهی اولیه می‌توانید از اعداد تصادفی بین <code dir=ltr>0</code> تا <code dir=ltr>1</code> استفاده کنید.\n",
    "<br>\n",
    "سپس در یک حلقه به ازای هر دور (به تعداد <code>epochs</code>) باید یک‌بار کل مجموعه‌ی آموزشی را بررسی کنید. بنابراین در داخل این حلقه، یک حلقه‌ی دیگر خواهید داشت که هربار یکی از نمونه‌ها را بررسی می‌کند (به دلیل استفاده از روش کاهش گرادیان تصادفی در هر تکرار تنها یک نمونه بررسی و وزن‌ها آپدیت می‌شوند).\n",
    "<br>\n",
    "به ازای هر نمونه، ابتدا به کمک تابع <code>weighting</code> بردار ویژگی آن را در بردار وزن ضرب نقطه‌ای می‌کنیم تا ورودی وزن‌دار به دست آید. سپس حاصل به‌دست‌آمده را به تابع فعال‌سازی می‌دهیم تا مقدار خروجی مدل را تولید کند. حال با تفریق پیش‌بینی مدل از مقدار (برچسب) واقعی می‌توانیم اختلاف‌شان را به دست آوریم. سپس طبق فرمول‌های معرفی‌شده در درسنامه، با ضرب این اختلاف در نرخ یادگیری و ویژگی‌های ورودی و سپس جمع آن با مقادیر قبلی بردار وزن می‌توانیم به آپدیت بردار وزن بپردازیم.\n",
    "<br>\n",
    "پیشنهاد می‌شود در آخر هر دور نسبت به چاپ دقت مدل کنونی بر روی مجموعه‌ی آموزشی نیز اقدام کنید. برای این کار کافیست نمونه‌ها را به تابع <code>predict</code> بدهید تا پیش‌بینی مدل تولید شود و سپس به کمک تابع آماده‌ی <code>accuracy_score</code> دقت آن را به دست آورید.\n",
    "<br>\n",
    "<b>نکته: </b>\n",
    "در هیچ‌کدام از توابع خود به غیر از تابع <code>fit</code> چیزی را چاپ (<code>print</code>) نکنید، در غیر این‌صورت سیستم داوری قادر به امتیازدهی به توابع شما نخواهد بود.\n",
    "</font>\n",
    "</p>"
   ]
  },
  {
   "cell_type": "code",
   "execution_count": 12,
   "id": "231cd2b5",
   "metadata": {},
   "outputs": [],
   "source": [
    "class Perceptron:\n",
    "\n",
    "    def __init__(self):\n",
    "        self.weights = None\n",
    "\n",
    "    def weighting(self, input):\n",
    "        return np.dot(input, self.weights)\n",
    "\n",
    "    def activation(self, weighted_input):\n",
    "        return 1 if weighted_input >= 0 else -1  \n",
    "\n",
    "    def predict(self, inputs):\n",
    "        bias = np.ones((inputs.shape[0], 1))\n",
    "        new_inputs = np.hstack((bias, inputs)) \n",
    "        predictions = []\n",
    "        for input_vector in new_inputs:\n",
    "            weighted_input = self.weighting(input_vector)\n",
    "            prediction = self.activation(weighted_input)\n",
    "            predictions.append(prediction)\n",
    "        return np.array(predictions)\n",
    "\n",
    "    def fit(self, inputs, outputs, learning_rate=0.001, epochs=64):\n",
    "        bias = np.ones((inputs.shape[0], 1))\n",
    "        new_inputs = np.hstack((bias, inputs)) \n",
    "        self.weights = np.random.rand(new_inputs.shape[1])\n",
    "        for epoch in range(epochs):\n",
    "            for sample, target in zip(new_inputs, outputs):\n",
    "                weighted_input = self.weighting(sample) \n",
    "                diff = self.activation(weighted_input) - target \n",
    "                self.weights = self.weights - (learning_rate * diff * sample)\n"
   ]
  },
  {
   "cell_type": "markdown",
   "id": "c5a46903",
   "metadata": {},
   "source": [
    "<h4 align=right style=\"line-height:200%;font-family:vazir;color:#0099cc\">\n",
    "<font face=\"vazir\" color=\"#0099cc\">\n",
    "آموزش مدل\n",
    "</font>\n",
    "</h4>\n",
    "\n",
    "<p dir=rtl style=\"direction: rtl; text-align: justify; line-height:200%; font-family:vazir; font-size:medium\">\n",
    "<font face=\"vazir\">\n",
    "    پس از طراحی ساختار پرسپترون می‌توانید به کمک <code dir=ltr>Perceptron()</code> ابتدا یک نمونه از این کلاس بسازید و سپس تابع <code>fit</code> را با آرگومان‌های مناسب صدا بزنید تا آموزش مدل آغاز شود. این کار را برای هر سه حالت ورودی انجام دهید. پیشنهاد می‌شود مقادیر مختلف نرخ یادگیری مانند 0.1، 0.01، 0.001 و... را آزمایش و مقایسه کنید.\n",
    "</font>\n",
    "</p>\n"
   ]
  },
  {
   "cell_type": "code",
   "execution_count": 13,
   "id": "d4f7297d",
   "metadata": {},
   "outputs": [
    {
     "data": {
      "text/plain": [
       "1.0"
      ]
     },
     "execution_count": 13,
     "metadata": {},
     "output_type": "execute_result"
    }
   ],
   "source": [
    "perceptron = Perceptron()\n",
    "perceptron.fit(df1, df1_target) # To-Do\n",
    "pred_df1 = perceptron.predict(df1)\n",
    "\n",
    "accuracy_score(pred_df1, df1_target)"
   ]
  },
  {
   "cell_type": "code",
   "execution_count": 14,
   "id": "e48be138",
   "metadata": {},
   "outputs": [
    {
     "data": {
      "text/plain": [
       "1.0"
      ]
     },
     "execution_count": 14,
     "metadata": {},
     "output_type": "execute_result"
    }
   ],
   "source": [
    "perceptron = Perceptron()\n",
    "perceptron.fit(df2, df2_target) # To-Do\n",
    "pred_df2 = perceptron.predict(df2)\n",
    "\n",
    "accuracy_score(pred_df2, df2_target)"
   ]
  },
  {
   "cell_type": "code",
   "execution_count": 15,
   "id": "3e1c9f67",
   "metadata": {},
   "outputs": [
    {
     "data": {
      "text/plain": [
       "0.96"
      ]
     },
     "execution_count": 15,
     "metadata": {},
     "output_type": "execute_result"
    }
   ],
   "source": [
    "perceptron = Perceptron()\n",
    "perceptron.fit(df3, df3_target) # To-Do\n",
    "pred_df3 = perceptron.predict(df3)\n",
    "\n",
    "accuracy_score(pred_df3, df3_target)"
   ]
  },
  {
   "cell_type": "markdown",
   "id": "70d87e34",
   "metadata": {},
   "source": [
    "<h4 align=right style=\"line-height:200%;font-family:vazir;color:#0099cc\">\n",
    "<font face=\"vazir\" color=\"#0099cc\">\n",
    "🤔\n",
    "پرسش\n",
    "</font>\n",
    "</h4>\n",
    "\n",
    "<p dir=rtl style=\"direction: rtl; text-align: justify; line-height:200%; font-family:vazir; font-size:medium\">\n",
    "<font face=\"vazir\">\n",
    "    از میان سه حالت مختلفی که برای کلاس‌های مجموعه‌داده در نظر گرفتیم، یک یا چند حالت به‌صورت خطی تفکیک‌پذیر هستند. تفکیک‌پذیر خطی بودن آن‌ها را می‌توان طبق دقت به‌دست‌آمده توسط مدل نتیجه‌گیری کرد. طبق نتایج به‌دست‌آمده در اجرای خود فکر می‌کنید کدام حالت یا حالت‌ها به‌صورت خطی تفکیک‌پذیر هستند؟ پاسخ را در متغیر <code>linearly_separable</code> به شکل یک لیست وارد کنید. به عنوان مثال اگر پاسخ شما حالت اول یعنی کلاس‌های <code>Iris-setosa</code> و <code>Iris-versicolor</code> است آنگاه <code>linearly_separable</code> را به‌صورت <code>[1]</code> و اگر پاسخ شما مثلاً حالت دوم و سوم است آن را به شکل <code dir=ltr>[2, 3]</code> مقداردهی کنید.\n",
    "</font>\n",
    "</p>\n"
   ]
  },
  {
   "cell_type": "code",
   "execution_count": 16,
   "id": "f9c9053d",
   "metadata": {},
   "outputs": [],
   "source": [
    "linearly_separable = [1, 2]"
   ]
  },
  {
   "cell_type": "markdown",
   "id": "8b86c670",
   "metadata": {},
   "source": [
    "<h3 align=right style=\"line-height:200%;font-family:vazir;color:#0099cc\">\n",
    "<font face=\"vazir\" color=\"#0099cc\">\n",
    "قاعده‌ی دلتا\n",
    "</font>\n",
    "</h3>\n",
    "<center>\n",
    "<img src=\"delta_rule.png\">\n",
    "</center>\n",
    "<p dir=rtl style=\"direction: rtl; text-align: justify; line-height:200%; font-family:vazir; font-size:medium\">\n",
    "    در این حالت می‌خواهیم کلاسی با نام <code>Adaline</code> بسازیم و  مدل را با قاعده‌ی دلتا آموزش دهیم. در اینجا از روش نزول گرادیان استفاده خواهیم کرد، یعنی تمام نمونه‌های آموزشی به‌صورت همزمان بر روی آپدیت وزن تاثیر می‌گذارند (برخلاف روش نزول گرادیان تصادفی که هربار یک نمونه دیده می‌شد). کد این مدل بسیار شبیه به حالت قبلی خواهد بود و تنها نیاز است چند مورد جزئی زیر را اعمال کنید:\n",
    "    <br>\n",
    "    <ul dir=rtl style=\"direction: rtl; text-align: justify; line-height:200%; font-family:vazir; font-size:medium\">\n",
    "        <li>\n",
    "        از آنجا که در این حالت از تابع فعال‌سازی خطی استفاده می‌شود تابع <code>activation</code> تنها همان ورودی وزن‌دار خود را بدون هیچ‌گونه تغییری خروجی می‌دهد.\n",
    "        </li>\n",
    "        <li>\n",
    "        در تابع <code>prediction</code> پس از وزن‌دار کردن و عبور از تابع فعال‌سازی، باید بررسی کنید که اگر حاصل بزرگتر یا مساوی صفر بود، مقدار پیش‌بینی <code dir=ltr>+1</code> و در غیر این‌صورت <code dir=ltr>-1</code> شود.\n",
    "        </li>\n",
    "        <li>\n",
    "        پیشنهاد می‌شود به جای اینکه یک حلقه بنویسید که خطای هر نمونه را محاسبه کند و در آخر از مجموع آن جهت آپدیت وزن استفاده کنید، همین کار را به‌صورت برداری انجام دهید (با ضرب نقطه‌ای ترانهاده‌ی ماتریس ورودی در بردار وزن).\n",
    "        </li>\n",
    "    </ul>\n",
    "</font>\n",
    "</p>"
   ]
  },
  {
   "cell_type": "code",
   "execution_count": 17,
   "id": "c7961eff",
   "metadata": {},
   "outputs": [],
   "source": [
    "class Adaline:\n",
    "\n",
    "    def __init__(self):\n",
    "        self.weights = None\n",
    "\n",
    "    def weighting(self, inputs):\n",
    "        return np.dot(inputs, self.weights)\n",
    "\n",
    "\n",
    "    def activation(self, weighted_input):\n",
    "        return weighted_input\n",
    "\n",
    "    def predict(self, inputs):\n",
    "        bias = np.ones((inputs.shape[0], 1))\n",
    "        new_inputs = np.hstack((bias, inputs))\n",
    "        predictions = []\n",
    "        for input_vector in new_inputs:\n",
    "            weighted_input = np.dot(input_vector, self.weights) \n",
    "            prediction = 1 if self.activation(weighted_input) >= 0 else -1\n",
    "            \n",
    "            predictions.append(prediction)\n",
    "        return np.array(predictions) \n",
    "\n",
    "    def fit(self, inputs, outputs, learning_rate=0.1, epochs=64):\n",
    "        bias = np.ones((inputs.shape[0], 1)) \n",
    "        new_inputs = np.hstack((bias, inputs))\n",
    "        self.weights = np.random.rand(new_inputs.shape[1])\n",
    "        # self.errors = []\n",
    "\n",
    "        for epoch in range(epochs):\n",
    "            # total_error = 0\n",
    "            weighted_inputs = self.weighting(new_inputs)\n",
    "                    \n",
    "            diff = self.activation(weighted_inputs) - outputs\n",
    "            self.weights = self.weights - learning_rate * np.dot(new_inputs.T, diff)\n",
    "            # total_error = np.mean(diff**2)\n",
    "            # self.errors.append(total_error)\n",
    "    # def predict(self, inputs):\n"
   ]
  },
  {
   "cell_type": "markdown",
   "id": "25901f4f",
   "metadata": {},
   "source": [
    "<h4 align=right style=\"line-height:200%;font-family:vazir;color:#0099cc\">\n",
    "<font face=\"vazir\" color=\"#0099cc\">\n",
    "آموزش مدل\n",
    "</font>\n",
    "</h4>\n",
    "\n",
    "<p dir=rtl style=\"direction: rtl; text-align: justify; line-height:200%; font-family:vazir; font-size:medium\">\n",
    "<font face=\"vazir\">\n",
    "    پس از طراحی ساختار پرسپترون می‌توانید به کمک <code dir=ltr>Adaline()</code> ابتدا یک نمونه از این کلاس بسازید و سپس تابع <code>fit</code> را با آرگومان‌های مناسب صدا بزنید تا آموزش مدل آغاز شود. این کار را برای هر سه حالت ورودی انجام دهید. پیشنهاد می‌شود مقادیر مختلف نرخ یادگیری مانند 0.1، 0.01، 0.001 و... را آزمایش و مقایسه کنید.\n",
    "</font>\n",
    "</p>\n"
   ]
  },
  {
   "cell_type": "code",
   "execution_count": 18,
   "id": "008fcefd",
   "metadata": {},
   "outputs": [
    {
     "data": {
      "text/plain": [
       "1.0"
      ]
     },
     "execution_count": 18,
     "metadata": {},
     "output_type": "execute_result"
    }
   ],
   "source": [
    "adaline = Adaline()\n",
    "adaline.fit(df1, df1_target) \n",
    "pred_df1 = adaline.predict(df1)\n",
    "\n",
    "accuracy_score(pred_df1, df1_target)"
   ]
  },
  {
   "cell_type": "code",
   "execution_count": 19,
   "id": "612725f9",
   "metadata": {},
   "outputs": [
    {
     "data": {
      "text/plain": [
       "0.0"
      ]
     },
     "execution_count": 19,
     "metadata": {},
     "output_type": "execute_result"
    }
   ],
   "source": [
    "adaline = Adaline()\n",
    "adaline.fit(df2, df2_target) \n",
    "pred_df2 = adaline.predict(df2)\n",
    "\n",
    "accuracy_score(pred_df2, df2_target)"
   ]
  },
  {
   "cell_type": "code",
   "execution_count": 20,
   "id": "34bc5a69",
   "metadata": {},
   "outputs": [
    {
     "data": {
      "text/plain": [
       "0.81"
      ]
     },
     "execution_count": 20,
     "metadata": {},
     "output_type": "execute_result"
    }
   ],
   "source": [
    "adaline = Adaline()\n",
    "adaline.fit(df3, df3_target) \n",
    "pred_df3 = adaline.predict(df3)\n",
    "\n",
    "accuracy_score(pred_df3, df3_target)"
   ]
  },
  {
   "cell_type": "markdown",
   "id": "08def517",
   "metadata": {},
   "source": [
    "<h4 align=right style=\"line-height:200%;font-family:vazir;color:#0099cc\">\n",
    "<font face=\"vazir\" color=\"#0099cc\">\n",
    "💭\n",
    "تفکر\n",
    "</font>\n",
    "</h4>\n",
    "\n",
    "<p dir=rtl style=\"direction: rtl; text-align: justify; line-height:200%; font-family:vazir; font-size:medium\">\n",
    "<font face=\"vazir\">\n",
    "    مقایسه‌ی عملکرد دو مدل <code>Perceptron</code> و <code>Adaline</code> در حالتی که مجموعه‌داده به شکل خطی تفکیک‌پذیر نباشد می‌تواند به شکل عملی تفاوت میان این دو مدل را برای‌تان شفاف سازد.\n",
    "</font>\n",
    "</p>\n"
   ]
  },
  {
   "cell_type": "markdown",
   "id": "db09c5f3",
   "metadata": {},
   "source": [
    "<h2 align=right style=\"line-height:200%;font-family:vazir;color:#0099cc\">\n",
    "<font face=\"vazir\" color=\"#0099cc\">\n",
    "<b>داوری</b>\n",
    "</font>\n",
    "</h2>\n",
    "\n",
    "<p dir=rtl style=\"direction: rtl; text-align: justify; line-height:200%; font-family:vazir; font-size:medium\">\n",
    "<font face=\"vazir\" size=3>\n",
    "در این تمرین هرکدام از توابعی که پیاده کرده‌اید به‌صورت جداگانه مورد داوری قرار خواهد گرفت تا از عملکرد هرکدام به شکل جداگانه مطمئن شوید. البته تابع <code>fit</code> هر کلاس به منزله‌ی عملکرد کلی مدل است و جهت ارزیابی، مدل شما بر روی یک حالت تفکیک‌پذیر خطی از مجموعه‌داده iris آموزش خواهد دید و انتظار می‌رود که بتواند دقت تقریبی ۱۰۰ درصد را بر روی مجموعه‌ی آموزشی به دست آورد. علاوه بر این دیتافریم‌های اولیه و پاسخ شما به پرسش مطرح‌شده درباره‌ی تفکیک‌پذیری خطی نیز امتیازدهی خواهد شد.\n",
    "</font>\n",
    "</p>"
   ]
  },
  {
   "cell_type": "markdown",
   "id": "0a77e7cd",
   "metadata": {},
   "source": [
    "<h2 align=right style=\"line-height:200%;font-family:vazir;color:#0099cc\">\n",
    "<font face=\"vazir\" color=\"#0099cc\">\n",
    "<b>سلول جواب‌ساز</b>\n",
    "</font>\n",
    "</h2>\n",
    "\n",
    "<p dir=rtl style=\"direction: rtl; text-align: justify; line-height:200%; font-family:vazir; font-size:medium\">\n",
    "<font face=\"vazir\" size=3>\n",
    "    سلول‌های زیر را به منظور ساخت فایل‌های کلاس‌های پیاده‌سازی شده و پاسخ خود به پرسش مطرح شده اجرا نمایید.\n",
    "</font>\n",
    "</p>"
   ]
  },
  {
   "cell_type": "code",
   "execution_count": 21,
   "id": "9e847dc0",
   "metadata": {},
   "outputs": [],
   "source": [
    "with open(\"linearly_separable.json\", \"w\") as f:\n",
    "    json.dump(linearly_separable, f)\n",
    "f.close()"
   ]
  },
  {
   "cell_type": "code",
   "execution_count": 22,
   "id": "e18c2ed1",
   "metadata": {},
   "outputs": [],
   "source": [
    "inspect_perceptron = Perceptron()\n",
    "with open(\"Perceptron.py\", \"w\") as f:\n",
    "    f.write('import numpy as np\\n')\n",
    "    f.write('from sklearn.metrics import accuracy_score\\n')\n",
    "    f.write('class Perceptron:\\n')\n",
    "    f.write(getsource(inspect_perceptron.__init__)+'\\n')\n",
    "    f.write(getsource(inspect_perceptron.weighting)+'\\n')\n",
    "    f.write(getsource(inspect_perceptron.activation)+'\\n')\n",
    "    f.write(getsource(inspect_perceptron.predict)+'\\n')\n",
    "    f.write(getsource(inspect_perceptron.fit)+'\\n')\n",
    "f.close()"
   ]
  },
  {
   "cell_type": "code",
   "execution_count": 23,
   "id": "233b9ad0",
   "metadata": {},
   "outputs": [],
   "source": [
    "inspect_adaline = Adaline()\n",
    "with open(\"Adaline.py\", \"w\") as f:\n",
    "    f.write('import numpy as np\\n')\n",
    "    f.write('from sklearn.metrics import accuracy_score\\n')\n",
    "    f.write('class Adaline:\\n')\n",
    "    f.write(getsource(inspect_adaline.__init__)+'\\n')\n",
    "    f.write(getsource(inspect_adaline.weighting)+'\\n')\n",
    "    f.write(getsource(inspect_adaline.activation)+'\\n')\n",
    "    f.write(getsource(inspect_adaline.predict)+'\\n')\n",
    "    f.write(getsource(inspect_adaline.fit)+'\\n')\n",
    "f.close()"
   ]
  },
  {
   "cell_type": "markdown",
   "id": "40754109",
   "metadata": {},
   "source": [
    "<p dir=rtl style=\"direction: rtl; text-align: justify; line-height:200%; font-family:vazir; font-size:medium\">\n",
    "<font face=\"vazir\" size=3>\n",
    "    برای ساخته‌شدن فایل <code>result.zip</code> سلول زیر را اجرا کنید. توجه داشته باشید که پیش از اجرای سلول زیر تغییرات اعمال شده در نت‌بوک را ذخیره کرده باشید (<code>ctrl+s</code>) تا در صورت نیاز به پشتیبانی امکان بررسی کد شما وجود داشته باشد.\n",
    "</font>\n",
    "</p>"
   ]
  },
  {
   "cell_type": "code",
   "execution_count": 24,
   "id": "2c3bcd76",
   "metadata": {},
   "outputs": [
    {
     "name": "stdout",
     "output_type": "stream",
     "text": [
      "File Paths:\n",
      "['df1.csv', 'df2.csv', 'df3.csv', 'perceptron.ipynb', 'Perceptron.py', 'Adaline.py', 'linearly_separable.json']\n"
     ]
    }
   ],
   "source": [
    "import zipfile\n",
    "import joblib\n",
    "\n",
    "def compress(file_names):\n",
    "    print(\"File Paths:\")\n",
    "    print(file_names)\n",
    "    compression = zipfile.ZIP_DEFLATED\n",
    "    with zipfile.ZipFile(\"result.zip\", mode=\"w\") as zf:\n",
    "        for file_name in file_names:\n",
    "            zf.write('./' + file_name, file_name, compress_type=compression)\n",
    "\n",
    "file_names = ['df1.csv', 'df2.csv', 'df3.csv', 'perceptron.ipynb', 'Perceptron.py', 'Adaline.py', 'linearly_separable.json']\n",
    "compress(file_names)"
   ]
  },
  {
   "cell_type": "code",
   "execution_count": null,
   "id": "1456b7f1",
   "metadata": {},
   "outputs": [],
   "source": []
  }
 ],
 "metadata": {
  "kernelspec": {
   "display_name": "qenv",
   "language": "python",
   "name": "python3"
  },
  "language_info": {
   "codemirror_mode": {
    "name": "ipython",
    "version": 3
   },
   "file_extension": ".py",
   "mimetype": "text/x-python",
   "name": "python",
   "nbconvert_exporter": "python",
   "pygments_lexer": "ipython3",
   "version": "3.9.13"
  }
 },
 "nbformat": 4,
 "nbformat_minor": 5
}
