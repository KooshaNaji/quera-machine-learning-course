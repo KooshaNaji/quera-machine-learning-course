{
 "cells": [
  {
   "cell_type": "code",
   "execution_count": 1,
   "metadata": {},
   "outputs": [],
   "source": [
    "import numpy as np"
   ]
  },
  {
   "cell_type": "code",
   "execution_count": null,
   "metadata": {},
   "outputs": [],
   "source": [
    "class Perceptron:\n",
    "    def __init__(self):\n",
    "        self.weights = None\n",
    "    \n",
    "    def weighting(self, input):\n",
    "        return np.dot(self.weights, input)\n",
    "\n",
    "    def activation(self, weighted_input):\n",
    "        return 1 if weighted_input > 1 else -1\n",
    "    \n",
    "    def predict(self, inputs):\n",
    "        predictions = []\n",
    "        bias = np.ones(inputs.shape[0], 1)\n",
    "        new_inputs = np.hstack(bias, inputs)\n",
    "        for input_vector in new_inputs:\n",
    "            weighted_input = self.weighting(input_vector)\n",
    "            prediction = self.activation(weighted_input)\n",
    "            predictions.append(prediction)\n",
    "        return predictions\n",
    "    \n",
    "    def fit(self, inputs, outputs, learning_rate=.1, apochs=60):\n",
    "        \n"
   ]
  }
 ],
 "metadata": {
  "kernelspec": {
   "display_name": "qenv",
   "language": "python",
   "name": "python3"
  },
  "language_info": {
   "codemirror_mode": {
    "name": "ipython",
    "version": 3
   },
   "file_extension": ".py",
   "mimetype": "text/x-python",
   "name": "python",
   "nbconvert_exporter": "python",
   "pygments_lexer": "ipython3",
   "version": "3.9.13"
  }
 },
 "nbformat": 4,
 "nbformat_minor": 2
}
