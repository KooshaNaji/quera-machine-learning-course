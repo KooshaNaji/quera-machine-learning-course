{
 "cells": [
  {
   "cell_type": "markdown",
   "id": "d333515a",
   "metadata": {},
   "source": [
    "<h1 align=center style=\"line-height:200%;font-family:vazir;color:#0099cc\">\n",
    "<font face=\"vazir\" color=\"#0099cc\">\n",
    "تشخیص جنسیت\n",
    "</font>\n",
    "</h1>"
   ]
  },
  {
   "cell_type": "markdown",
   "id": "6ed20bff",
   "metadata": {},
   "source": [
    "<h2 align=right style=\"line-height:200%;font-family:vazir;color:#0099cc\">\n",
    "<font face=\"vazir\" color=\"#0099cc\">\n",
    "مقدمه و صورت مسئله\n",
    "</font>\n",
    "</h2>\n",
    "\n",
    "<p dir=rtl style=\"direction: rtl; text-align: justify; line-height:200%; font-family:vazir; font-size:medium\">\n",
    "<font face=\"vazir\" size=3>\n",
    "    امروزه شبکه‌های اجتماعی کاربردهای گسترده‌ای دارند. اولین استفاده آن، تفریح و اوقات فراغت است. اما از دید دیگر، می‌توان از شبکه‌های اجتماعی برای پیدا کردن الگوهای رفتاری استفاده کرد. به عنوان مثال با تحلیل نظرات کاربران شبکه‌های اجتماعی می‌توانیم ضعف‌های کسب و کار خود را پیدا کنیم.\n",
    "    <br>\n",
    "    جنسیت یکی از پارامترهای تاثیرگذار در رفتار کاربران است. در مواجه با یک موضوع، بانوان عمدتا یک‌طور واکنش نشان خواهند داد و آقایان نیز طور دیگری!\n",
    "    <br>\n",
    "    حال در این تمرین قصد داریم با اطلاعاتی که دیتاک از کاربران توییتر و اینستاگرم در اختیار ما قرار داده است، جنسیت آن‌ها را پیش‌بینی کنیم.\n",
    "</font>\n",
    "</p>"
   ]
  },
  {
   "cell_type": "markdown",
   "id": "c5af1784",
   "metadata": {},
   "source": [
    "<h2 align=right style=\"line-height:200%;font-family:vazir;color:#0099cc\">\n",
    "<font face=\"vazir\" color=\"#0099cc\">\n",
    "وارد کردن کتابخانه‌های مورد نیاز\n",
    "</font>\n",
    "</h2>\n",
    "\n",
    "<p dir=rtl style=\"direction: rtl; text-align: justify; line-height:200%; font-family:vazir; font-size:medium\">\n",
    "<font face=\"vazir\" size=3>\n",
    "    ابتدا کتابخانه‌های مورد نیازتان را وارد کنید.\n",
    "</font>\n",
    "</p>"
   ]
  },
  {
   "cell_type": "code",
   "execution_count": 38,
   "id": "99450f9e",
   "metadata": {},
   "outputs": [],
   "source": [
    "import numpy as np\n",
    "import pandas as pd \n",
    "from emoji import emoji_count \n",
    "from sklearn.feature_extraction.text import TfidfVectorizer  \n",
    "from xgboost import XGBClassifier\n",
    "from sklearn.preprocessing import StandardScaler\n",
    "from sklearn.model_selection import train_test_split\n",
    "from sklearn.metrics import f1_score\n"
   ]
  },
  {
   "cell_type": "markdown",
   "id": "72faaed8",
   "metadata": {},
   "source": [
    "<h2 align=right style=\"line-height:200%;font-family:vazir;color:#0099cc\">\n",
    "<font face=\"vazir\" color=\"#0099cc\">\n",
    "معرفی مجموعه داده\n",
    "</font>\n",
    "</h2>\n",
    "\n",
    "<p dir=rtl style=\"direction: rtl; text-align: justify; line-height:200%; font-family:vazir; font-size:medium\">\n",
    "<font face=\"vazir\" size=3>\n",
    "مجموعه داده آموزش ۸۰۰۰ سطر و ۱۰ ستون دارد. در جدول زیر، اطلاعات بیشتری در مورد داده نوشته شده است.     \n",
    "</font>\n",
    "</p>\n",
    "\n",
    "<center>\n",
    "<div dir=rtl style=\"direction: rtl;line-height:200%;font-family:vazir;font-size:medium\">\n",
    "<font face=\"vazir\" size=3>\n",
    "    \n",
    "|ستون|توضیحات|\n",
    "|:------:|:---:|\n",
    "|gender|جنسیت (ستون هدف)|\n",
    "|age|بازه سنی کاربر|\n",
    "|fullname|نامی که در پروفایل شبکه اجتماعی نوشته شده است |\n",
    "|username|نام کاربری|\n",
    "|biography|بیوگرافی شبکه اجتماعی کاربر|\n",
    "|follower_count|تعداد دنبال‌کننده‌های کاربر|\n",
    "|following_count|تعداد افرادی که کاربر را دنبال می‌کنند|\n",
    "|is_business|کسب‌وکاری بودن حساب کاربری|\n",
    "|is_verified|تایید شده بودن حساب کاربری|\n",
    "|is_private|خصوصی بودن حساب کاربری|\n",
    "    \n",
    "</font>\n",
    "</div>\n",
    "</center>\n",
    "\n",
    "\n",
    "<p dir=rtl style=\"direction: rtl; text-align: justify; line-height:200%; font-family:vazir; font-size:medium\">\n",
    "<font face=\"vazir\" size=3>\n",
    "    ستون <code>age</code> متغیر پیوسته نیست؛ بلکه دسته‌های سنی را نشان می‌دهد. در جدول زیر نحوه نگاشت سن را مشاهده می‌کنیم.\n",
    "</font>\n",
    "</p>\n",
    "\n",
    "\n",
    "<center>\n",
    "<div dir=rtl style=\"direction: rtl;line-height:200%;font-family:vazir;font-size:medium\">\n",
    "<font face=\"vazir\" size=3>\n",
    "    \n",
    "|سن واقعی کاربران|عدد نگاشت شده|\n",
    "|:------:|:---:|\n",
    "|1|کمتر از ۱۸ سال|\n",
    "|2|از ۱۹ تا ۲۹ سال|\n",
    "|3|از ۳۰ تا ۴۰ سال|\n",
    "|4|بالاتر از ۴۰ سال|\n",
    "    \n",
    "</font>\n",
    "</div>\n",
    "</center>\n"
   ]
  },
  {
   "cell_type": "markdown",
   "id": "e99bbe9b",
   "metadata": {},
   "source": [
    "<h2 align=right style=\"line-height:200%;font-family:vazir;color:#0099cc\">\n",
    "<font face=\"vazir\" color=\"#0099cc\">\n",
    "خواندن مجموعه داده\n",
    "</font>\n",
    "</h2>\n",
    "\n",
    "<p dir=rtl style=\"direction: rtl; text-align: justify; line-height:200%; font-family:vazir; font-size:medium\">\n",
    "<font face=\"vazir\" size=3>\n",
    "    در ابتدا نیاز است فایل‌های مجموعه‌داده را بخوانید. نمونه‌های آموزشی در فایل <code>train_data.csv</code> و نمونه‌های آزمون که باید دسته‌ی آن‌ها را پیش‌بینی کنید در فایل <code>test_data.csv</code> ذخیره شده‌اند. اگر لازم دانستید می‌توانید به دلخواه خود بخشی از دادگان آموزشی را به عنوان دادگان اعتبارسنجی نیز جدا کنید.\n",
    "</font>\n",
    "</p>"
   ]
  },
  {
   "cell_type": "code",
   "execution_count": 39,
   "id": "7dcb9e87",
   "metadata": {},
   "outputs": [
    {
     "data": {
      "text/html": [
       "<div>\n",
       "<style scoped>\n",
       "    .dataframe tbody tr th:only-of-type {\n",
       "        vertical-align: middle;\n",
       "    }\n",
       "\n",
       "    .dataframe tbody tr th {\n",
       "        vertical-align: top;\n",
       "    }\n",
       "\n",
       "    .dataframe thead th {\n",
       "        text-align: right;\n",
       "    }\n",
       "</style>\n",
       "<table border=\"1\" class=\"dataframe\">\n",
       "  <thead>\n",
       "    <tr style=\"text-align: right;\">\n",
       "      <th></th>\n",
       "      <th>gender</th>\n",
       "      <th>age</th>\n",
       "      <th>fullname</th>\n",
       "      <th>username</th>\n",
       "      <th>biography</th>\n",
       "      <th>follower_count</th>\n",
       "      <th>following_count</th>\n",
       "      <th>is_business</th>\n",
       "      <th>is_verified</th>\n",
       "      <th>is_private</th>\n",
       "    </tr>\n",
       "  </thead>\n",
       "  <tbody>\n",
       "    <tr>\n",
       "      <th>0</th>\n",
       "      <td>man</td>\n",
       "      <td>2</td>\n",
       "      <td>Farshid</td>\n",
       "      <td>mr_gh_farshid</td>\n",
       "      <td>دردا ک در این بادیه بسیار دویدیم...\\nGlory man...</td>\n",
       "      <td>1604.0</td>\n",
       "      <td>1407.0</td>\n",
       "      <td>0.0</td>\n",
       "      <td>0.0</td>\n",
       "      <td>0.0</td>\n",
       "    </tr>\n",
       "    <tr>\n",
       "      <th>1</th>\n",
       "      <td>woman</td>\n",
       "      <td>2</td>\n",
       "      <td>zahr@72</td>\n",
       "      <td>zahra.roozbahani72</td>\n",
       "      <td>خواهی که زکوچ در امان برگردی\\nباید که به جان ,...</td>\n",
       "      <td>67.0</td>\n",
       "      <td>501.0</td>\n",
       "      <td>0.0</td>\n",
       "      <td>0.0</td>\n",
       "      <td>0.0</td>\n",
       "    </tr>\n",
       "    <tr>\n",
       "      <th>2</th>\n",
       "      <td>woman</td>\n",
       "      <td>2</td>\n",
       "      <td>ms farahnaz♥</td>\n",
       "      <td>___lady.farahnazi.__</td>\n",
       "      <td>Having you,  is all I wish for \\nداشتنت، تمامِ...</td>\n",
       "      <td>0.0</td>\n",
       "      <td>0.0</td>\n",
       "      <td>0.0</td>\n",
       "      <td>0.0</td>\n",
       "      <td>0.0</td>\n",
       "    </tr>\n",
       "    <tr>\n",
       "      <th>3</th>\n",
       "      <td>woman</td>\n",
       "      <td>1</td>\n",
       "      <td>Lena.mommy farzan</td>\n",
       "      <td>mommy.lena3361</td>\n",
       "      <td>دردونه من لنا کوچولو</td>\n",
       "      <td>0.0</td>\n",
       "      <td>0.0</td>\n",
       "      <td>0.0</td>\n",
       "      <td>0.0</td>\n",
       "      <td>0.0</td>\n",
       "    </tr>\n",
       "    <tr>\n",
       "      <th>4</th>\n",
       "      <td>woman</td>\n",
       "      <td>2</td>\n",
       "      <td>Narsis Asadollahi</td>\n",
       "      <td>_l.aurora.l_</td>\n",
       "      <td>I am an animation student\\n🎧🎼🎨⚓️🤍 \\n@general.m...</td>\n",
       "      <td>200.0</td>\n",
       "      <td>328.0</td>\n",
       "      <td>0.0</td>\n",
       "      <td>0.0</td>\n",
       "      <td>0.0</td>\n",
       "    </tr>\n",
       "    <tr>\n",
       "      <th>...</th>\n",
       "      <td>...</td>\n",
       "      <td>...</td>\n",
       "      <td>...</td>\n",
       "      <td>...</td>\n",
       "      <td>...</td>\n",
       "      <td>...</td>\n",
       "      <td>...</td>\n",
       "      <td>...</td>\n",
       "      <td>...</td>\n",
       "      <td>...</td>\n",
       "    </tr>\n",
       "    <tr>\n",
       "      <th>7995</th>\n",
       "      <td>woman</td>\n",
       "      <td>2</td>\n",
       "      <td>Ŋεgɨŋ</td>\n",
       "      <td>negiiin_bahrmandi</td>\n",
       "      <td>﷽\\nAllah IS Enough FoR Me?\\n♥️?</td>\n",
       "      <td>0.0</td>\n",
       "      <td>0.0</td>\n",
       "      <td>0.0</td>\n",
       "      <td>0.0</td>\n",
       "      <td>0.0</td>\n",
       "    </tr>\n",
       "    <tr>\n",
       "      <th>7996</th>\n",
       "      <td>man</td>\n",
       "      <td>3</td>\n",
       "      <td>h🗯abdi🗯offìcial</td>\n",
       "      <td>h.abdi.official</td>\n",
       "      <td>حقوقی</td>\n",
       "      <td>0.0</td>\n",
       "      <td>0.0</td>\n",
       "      <td>1.0</td>\n",
       "      <td>0.0</td>\n",
       "      <td>0.0</td>\n",
       "    </tr>\n",
       "    <tr>\n",
       "      <th>7997</th>\n",
       "      <td>woman</td>\n",
       "      <td>2</td>\n",
       "      <td>⚜رویا احمدی⚜</td>\n",
       "      <td>roya.ahmadi.k</td>\n",
       "      <td>مهندس صنایع👩‍🔧🏭 Industrial engineer\\nمعمار👩‍💻👷...</td>\n",
       "      <td>1260.0</td>\n",
       "      <td>1167.0</td>\n",
       "      <td>0.0</td>\n",
       "      <td>0.0</td>\n",
       "      <td>0.0</td>\n",
       "    </tr>\n",
       "    <tr>\n",
       "      <th>7998</th>\n",
       "      <td>man</td>\n",
       "      <td>3</td>\n",
       "      <td>لرستان &amp;خرم اباد</td>\n",
       "      <td>erfanpouersif</td>\n",
       "      <td>khoramabad</td>\n",
       "      <td>0.0</td>\n",
       "      <td>0.0</td>\n",
       "      <td>0.0</td>\n",
       "      <td>0.0</td>\n",
       "      <td>0.0</td>\n",
       "    </tr>\n",
       "    <tr>\n",
       "      <th>7999</th>\n",
       "      <td>man</td>\n",
       "      <td>4</td>\n",
       "      <td>Sasan</td>\n",
       "      <td>sasan.zeinoddin</td>\n",
       "      <td>Sport 🏃🏻‍♂️🏊🏼‍♂️🚴🏽‍♂️\\nCivil Engineer🗽\\nKurdis...</td>\n",
       "      <td>0.0</td>\n",
       "      <td>0.0</td>\n",
       "      <td>0.0</td>\n",
       "      <td>0.0</td>\n",
       "      <td>0.0</td>\n",
       "    </tr>\n",
       "  </tbody>\n",
       "</table>\n",
       "<p>8000 rows × 10 columns</p>\n",
       "</div>"
      ],
      "text/plain": [
       "     gender  age           fullname              username  \\\n",
       "0       man    2            Farshid         mr_gh_farshid   \n",
       "1     woman    2            zahr@72    zahra.roozbahani72   \n",
       "2     woman    2       ms farahnaz♥  ___lady.farahnazi.__   \n",
       "3     woman    1  Lena.mommy farzan        mommy.lena3361   \n",
       "4     woman    2  Narsis Asadollahi          _l.aurora.l_   \n",
       "...     ...  ...                ...                   ...   \n",
       "7995  woman    2              Ŋεgɨŋ     negiiin_bahrmandi   \n",
       "7996    man    3    h🗯abdi🗯offìcial       h.abdi.official   \n",
       "7997  woman    2       ⚜رویا احمدی⚜         roya.ahmadi.k   \n",
       "7998    man    3   لرستان &خرم اباد         erfanpouersif   \n",
       "7999    man    4              Sasan       sasan.zeinoddin   \n",
       "\n",
       "                                              biography  follower_count  \\\n",
       "0     دردا ک در این بادیه بسیار دویدیم...\\nGlory man...          1604.0   \n",
       "1     خواهی که زکوچ در امان برگردی\\nباید که به جان ,...            67.0   \n",
       "2     Having you,  is all I wish for \\nداشتنت، تمامِ...             0.0   \n",
       "3                                  دردونه من لنا کوچولو             0.0   \n",
       "4     I am an animation student\\n🎧🎼🎨⚓️🤍 \\n@general.m...           200.0   \n",
       "...                                                 ...             ...   \n",
       "7995                    ﷽\\nAllah IS Enough FoR Me?\\n♥️?             0.0   \n",
       "7996                                              حقوقی             0.0   \n",
       "7997  مهندس صنایع👩‍🔧🏭 Industrial engineer\\nمعمار👩‍💻👷...          1260.0   \n",
       "7998                                         khoramabad             0.0   \n",
       "7999  Sport 🏃🏻‍♂️🏊🏼‍♂️🚴🏽‍♂️\\nCivil Engineer🗽\\nKurdis...             0.0   \n",
       "\n",
       "      following_count  is_business  is_verified  is_private  \n",
       "0              1407.0          0.0          0.0         0.0  \n",
       "1               501.0          0.0          0.0         0.0  \n",
       "2                 0.0          0.0          0.0         0.0  \n",
       "3                 0.0          0.0          0.0         0.0  \n",
       "4               328.0          0.0          0.0         0.0  \n",
       "...               ...          ...          ...         ...  \n",
       "7995              0.0          0.0          0.0         0.0  \n",
       "7996              0.0          1.0          0.0         0.0  \n",
       "7997           1167.0          0.0          0.0         0.0  \n",
       "7998              0.0          0.0          0.0         0.0  \n",
       "7999              0.0          0.0          0.0         0.0  \n",
       "\n",
       "[8000 rows x 10 columns]"
      ]
     },
     "execution_count": 39,
     "metadata": {},
     "output_type": "execute_result"
    }
   ],
   "source": [
    "train = pd.read_csv('../data/train_data.csv')\n",
    "test = pd.read_csv('../data/test_data.csv')\n",
    "train"
   ]
  },
  {
   "cell_type": "markdown",
   "id": "23daec54",
   "metadata": {},
   "source": [
    "<h2 align=right style=\"line-height:200%;font-family:vazir;color:#0099cc\">\n",
    "<font face=\"vazir\" color=\"#0099cc\">\n",
    "پیش‌پردازش و مهندسی ویژگی\n",
    "</font>\n",
    "</h2>\n",
    "\n",
    "<p dir=rtl style=\"direction: rtl; text-align: justify; line-height:200%; font-family:vazir; font-size:medium\">\n",
    "<font face=\"vazir\" size=3>\n",
    "    در این سوال شما می‌توانید از هر تکنیک پیش‌پردازش/مهندسی ویژگی که در فصل‌های گذشته آموختید، استفاده کنید.\n",
    "    <br>\n",
    "    تکنیک‌هایی که استفاده می‌کنید به شکل مستقیم مورد ارزیابی توسط سامانه داوری قرار <b>نمی‌گیرند.</b> بلکه همه آن‌ها در دقت مدل شما تاثیر خواهند گذاشت؛ بنابراین هر چه پیش‌پردازش/مهندسی ویژگی بهتری انجام دهید تا دقت مدل بهبود پیدا کند، امتیاز بیشتری از این سوال کسب خواهید کرد.\n",
    "</font>\n",
    "</p>"
   ]
  },
  {
   "cell_type": "code",
   "execution_count": null,
   "id": "dfefa839",
   "metadata": {},
   "outputs": [],
   "source": [
    "class PreprocessingKoosha:\n",
    "    def __init__(self, train, test):\n",
    "        self.train = train.copy()\n",
    "        self.test = test.copy()\n",
    "\n",
    "    def fillna_is_business(self):\n",
    "        self.train['is_business'].fillna(value=0.0, inplace=True)\n",
    "\n",
    "    def define_target(self):\n",
    "        target_dict = {'man':0, 'woman':1}\n",
    "        self.train_target = self.train['gender'].map(target_dict)  \n",
    "\n",
    "        self.train.drop(columns='gender', axis=1, inplace=True)\n",
    "\n",
    "    def define_emoji_count(self):\n",
    "        self.train['emoji_count'] = self.train['biography'].apply(emoji_count) \n",
    "        self.test['emoji_count'] = self.test['biography'].apply(emoji_count) \n",
    "    \n",
    "    def to_lower_case(self):\n",
    "        self.train['fullname'] = self.train['fullname'].str.lower()\n",
    "        self.train['biography'] = self.train['biography'].str.lower()\n",
    "        self.test['fullname'] = self.test['fullname'].str.lower()\n",
    "        self.test['biography'] = self.test['biography'].str.lower()\n",
    "\n",
    "    def define_bio_length(self):\n",
    "        self.train['bio_length'] = self.train['biography'].str.len() \n",
    "        self.test['bio_length'] = self.test['biography'].str.len() \n",
    "\n",
    "    def prior_modeling(self):\n",
    "        tfidf = TfidfVectorizer(max_features=5000)  \n",
    "        combined_text_train = self.train['fullname'] + ' ' + self.train['username'] + ' ' + self.train['biography']\n",
    "        tfidf.fit(combined_text_train)  # Fit ONLY on train\n",
    "        \n",
    "        # Transform train/test data\n",
    "        X_train_text = tfidf.transform(combined_text_train)\n",
    "        X_test_text = tfidf.transform(\n",
    "            self.test['fullname'] + ' ' + self.test['username'] + ' ' + self.test['biography']\n",
    "        )\n",
    "        \n",
    "        # Train XGBoost\n",
    "        txt_model = XGBClassifier()\n",
    "        txt_model.fit(X_train_text, self.train_target)\n",
    "        \n",
    "        # Predict and store results\n",
    "        self.train['gender_by_txt'] = txt_model.predict(X_train_text)\n",
    "        self.test['gender_by_txt'] = txt_model.predict(X_test_text)\n",
    "\n",
    "    def define_new_datasets(self):\n",
    "        text_features = ['fullname', 'username', 'biography']\n",
    "        numeric_features = self.train.columns.difference(text_features)\n",
    "\n",
    "        self.train_data = self.train[numeric_features]\n",
    "        self.test_data = self.test[numeric_features]\n",
    "\n",
    "    def scaling_data(self):\n",
    "        scaler = StandardScaler()\n",
    "        self.train_data = scaler.fit_transform(self.train_data)\n",
    "        self.test_data = scaler.transform(self.test_data)\n",
    "\n",
    "    def define_validation_data(self):\n",
    "        self.train_data, self.valid_data, self.train_target, self.valid_data_target = train_test_split(\n",
    "            self.train_data, self.train_target, test_size=.1)\n",
    "\n",
    "    def transform(self):\n",
    "        self.fillna_is_business()\n",
    "        self.define_target()\n",
    "        self.define_emoji_count()\n",
    "        self.to_lower_case()\n",
    "        self.define_bio_length()\n",
    "        self.prior_modeling()\n",
    "        self.define_new_datasets()\n",
    "        self.scaling_data()\n",
    "        self.define_validation_data()\n",
    "\n",
    "        return self.train_data, self.train_target, self.valid_data, self.valid_data_target, self.test_data"
   ]
  },
  {
   "cell_type": "code",
   "execution_count": 41,
   "id": "53261aaf",
   "metadata": {},
   "outputs": [
    {
     "name": "stdout",
     "output_type": "stream",
     "text": [
      "<class 'pandas.core.frame.DataFrame'>\n",
      "RangeIndex: 2000 entries, 0 to 1999\n",
      "Data columns (total 9 columns):\n",
      " #   Column           Non-Null Count  Dtype  \n",
      "---  ------           --------------  -----  \n",
      " 0   age              2000 non-null   int64  \n",
      " 1   bio_length       2000 non-null   int64  \n",
      " 2   emoji_count      2000 non-null   int64  \n",
      " 3   follower_count   2000 non-null   float64\n",
      " 4   following_count  2000 non-null   float64\n",
      " 5   gender_by_txt    2000 non-null   int32  \n",
      " 6   is_business      2000 non-null   float64\n",
      " 7   is_private       2000 non-null   float64\n",
      " 8   is_verified      2000 non-null   float64\n",
      "dtypes: float64(5), int32(1), int64(3)\n",
      "memory usage: 132.9 KB\n",
      "None\n"
     ]
    }
   ],
   "source": [
    "preprocessor = PreprocessingKoosha(train=train, test=test)\n",
    "train_data, train_data_target, valid_data, valid_data_target, test_data = preprocessor.transform()"
   ]
  },
  {
   "cell_type": "code",
   "execution_count": 42,
   "id": "e41a04f5",
   "metadata": {},
   "outputs": [
    {
     "data": {
      "text/plain": [
       "(2000, 9)"
      ]
     },
     "execution_count": 42,
     "metadata": {},
     "output_type": "execute_result"
    }
   ],
   "source": [
    "test_data.shape"
   ]
  },
  {
   "cell_type": "code",
   "execution_count": 43,
   "id": "118574d0",
   "metadata": {},
   "outputs": [
    {
     "data": {
      "text/plain": [
       "(7200, 9)"
      ]
     },
     "execution_count": 43,
     "metadata": {},
     "output_type": "execute_result"
    }
   ],
   "source": [
    "train_data.shape"
   ]
  },
  {
   "cell_type": "code",
   "execution_count": 44,
   "id": "87b15340",
   "metadata": {},
   "outputs": [],
   "source": [
    "# do some preprocessing :)\n"
   ]
  },
  {
   "cell_type": "markdown",
   "id": "f99f2c94",
   "metadata": {},
   "source": [
    "<h2 align=right style=\"line-height:200%;font-family:vazir;color:#0099cc\">\n",
    "<font face=\"vazir\" color=\"#0099cc\">\n",
    "مدل‌سازی\n",
    "</font>\n",
    "</h2>\n",
    "\n",
    "<p dir=rtl style=\"direction: rtl; text-align: justify; line-height:200%; font-family:vazir; font-size:medium\">\n",
    "<font face=\"vazir\" size=3>\n",
    "    حال که داده را پاکسازی کرده و احتمالا ویژگی‌هایی را به آن افزوده یا از آن حذف کرده‌اید، وقت آن است که مدلی آموزش دهید که بتواند متغیر هدف این مسئله را پیش‌بینی کند.\n",
    "</font>\n",
    "</p>"
   ]
  },
  {
   "cell_type": "code",
   "execution_count": 45,
   "id": "c2b95a5b",
   "metadata": {},
   "outputs": [
    {
     "data": {
      "text/html": [
       "<style>#sk-container-id-2 {color: black;background-color: white;}#sk-container-id-2 pre{padding: 0;}#sk-container-id-2 div.sk-toggleable {background-color: white;}#sk-container-id-2 label.sk-toggleable__label {cursor: pointer;display: block;width: 100%;margin-bottom: 0;padding: 0.3em;box-sizing: border-box;text-align: center;}#sk-container-id-2 label.sk-toggleable__label-arrow:before {content: \"▸\";float: left;margin-right: 0.25em;color: #696969;}#sk-container-id-2 label.sk-toggleable__label-arrow:hover:before {color: black;}#sk-container-id-2 div.sk-estimator:hover label.sk-toggleable__label-arrow:before {color: black;}#sk-container-id-2 div.sk-toggleable__content {max-height: 0;max-width: 0;overflow: hidden;text-align: left;background-color: #f0f8ff;}#sk-container-id-2 div.sk-toggleable__content pre {margin: 0.2em;color: black;border-radius: 0.25em;background-color: #f0f8ff;}#sk-container-id-2 input.sk-toggleable__control:checked~div.sk-toggleable__content {max-height: 200px;max-width: 100%;overflow: auto;}#sk-container-id-2 input.sk-toggleable__control:checked~label.sk-toggleable__label-arrow:before {content: \"▾\";}#sk-container-id-2 div.sk-estimator input.sk-toggleable__control:checked~label.sk-toggleable__label {background-color: #d4ebff;}#sk-container-id-2 div.sk-label input.sk-toggleable__control:checked~label.sk-toggleable__label {background-color: #d4ebff;}#sk-container-id-2 input.sk-hidden--visually {border: 0;clip: rect(1px 1px 1px 1px);clip: rect(1px, 1px, 1px, 1px);height: 1px;margin: -1px;overflow: hidden;padding: 0;position: absolute;width: 1px;}#sk-container-id-2 div.sk-estimator {font-family: monospace;background-color: #f0f8ff;border: 1px dotted black;border-radius: 0.25em;box-sizing: border-box;margin-bottom: 0.5em;}#sk-container-id-2 div.sk-estimator:hover {background-color: #d4ebff;}#sk-container-id-2 div.sk-parallel-item::after {content: \"\";width: 100%;border-bottom: 1px solid gray;flex-grow: 1;}#sk-container-id-2 div.sk-label:hover label.sk-toggleable__label {background-color: #d4ebff;}#sk-container-id-2 div.sk-serial::before {content: \"\";position: absolute;border-left: 1px solid gray;box-sizing: border-box;top: 0;bottom: 0;left: 50%;z-index: 0;}#sk-container-id-2 div.sk-serial {display: flex;flex-direction: column;align-items: center;background-color: white;padding-right: 0.2em;padding-left: 0.2em;position: relative;}#sk-container-id-2 div.sk-item {position: relative;z-index: 1;}#sk-container-id-2 div.sk-parallel {display: flex;align-items: stretch;justify-content: center;background-color: white;position: relative;}#sk-container-id-2 div.sk-item::before, #sk-container-id-2 div.sk-parallel-item::before {content: \"\";position: absolute;border-left: 1px solid gray;box-sizing: border-box;top: 0;bottom: 0;left: 50%;z-index: -1;}#sk-container-id-2 div.sk-parallel-item {display: flex;flex-direction: column;z-index: 1;position: relative;background-color: white;}#sk-container-id-2 div.sk-parallel-item:first-child::after {align-self: flex-end;width: 50%;}#sk-container-id-2 div.sk-parallel-item:last-child::after {align-self: flex-start;width: 50%;}#sk-container-id-2 div.sk-parallel-item:only-child::after {width: 0;}#sk-container-id-2 div.sk-dashed-wrapped {border: 1px dashed gray;margin: 0 0.4em 0.5em 0.4em;box-sizing: border-box;padding-bottom: 0.4em;background-color: white;}#sk-container-id-2 div.sk-label label {font-family: monospace;font-weight: bold;display: inline-block;line-height: 1.2em;}#sk-container-id-2 div.sk-label-container {text-align: center;}#sk-container-id-2 div.sk-container {/* jupyter's `normalize.less` sets `[hidden] { display: none; }` but bootstrap.min.css set `[hidden] { display: none !important; }` so we also need the `!important` here to be able to override the default hidden behavior on the sphinx rendered scikit-learn.org. See: https://github.com/scikit-learn/scikit-learn/issues/21755 */display: inline-block !important;position: relative;}#sk-container-id-2 div.sk-text-repr-fallback {display: none;}</style><div id=\"sk-container-id-2\" class=\"sk-top-container\"><div class=\"sk-text-repr-fallback\"><pre>XGBClassifier(base_score=0.5, booster=&#x27;gbtree&#x27;, callbacks=None,\n",
       "              colsample_bylevel=1, colsample_bynode=1, colsample_bytree=1,\n",
       "              early_stopping_rounds=None, enable_categorical=False,\n",
       "              eval_metric=None, feature_types=None, gamma=0, gpu_id=-1,\n",
       "              grow_policy=&#x27;depthwise&#x27;, importance_type=None,\n",
       "              interaction_constraints=&#x27;&#x27;, learning_rate=0.300000012,\n",
       "              max_bin=256, max_cat_threshold=64, max_cat_to_onehot=4,\n",
       "              max_delta_step=0, max_depth=6, max_leaves=0, min_child_weight=1,\n",
       "              missing=nan, monotone_constraints=&#x27;()&#x27;, n_estimators=100,\n",
       "              n_jobs=0, num_parallel_tree=1, predictor=&#x27;auto&#x27;, random_state=0, ...)</pre><b>In a Jupyter environment, please rerun this cell to show the HTML representation or trust the notebook. <br />On GitHub, the HTML representation is unable to render, please try loading this page with nbviewer.org.</b></div><div class=\"sk-container\" hidden><div class=\"sk-item\"><div class=\"sk-estimator sk-toggleable\"><input class=\"sk-toggleable__control sk-hidden--visually\" id=\"sk-estimator-id-2\" type=\"checkbox\" checked><label for=\"sk-estimator-id-2\" class=\"sk-toggleable__label sk-toggleable__label-arrow\">XGBClassifier</label><div class=\"sk-toggleable__content\"><pre>XGBClassifier(base_score=0.5, booster=&#x27;gbtree&#x27;, callbacks=None,\n",
       "              colsample_bylevel=1, colsample_bynode=1, colsample_bytree=1,\n",
       "              early_stopping_rounds=None, enable_categorical=False,\n",
       "              eval_metric=None, feature_types=None, gamma=0, gpu_id=-1,\n",
       "              grow_policy=&#x27;depthwise&#x27;, importance_type=None,\n",
       "              interaction_constraints=&#x27;&#x27;, learning_rate=0.300000012,\n",
       "              max_bin=256, max_cat_threshold=64, max_cat_to_onehot=4,\n",
       "              max_delta_step=0, max_depth=6, max_leaves=0, min_child_weight=1,\n",
       "              missing=nan, monotone_constraints=&#x27;()&#x27;, n_estimators=100,\n",
       "              n_jobs=0, num_parallel_tree=1, predictor=&#x27;auto&#x27;, random_state=0, ...)</pre></div></div></div></div></div>"
      ],
      "text/plain": [
       "XGBClassifier(base_score=0.5, booster='gbtree', callbacks=None,\n",
       "              colsample_bylevel=1, colsample_bynode=1, colsample_bytree=1,\n",
       "              early_stopping_rounds=None, enable_categorical=False,\n",
       "              eval_metric=None, feature_types=None, gamma=0, gpu_id=-1,\n",
       "              grow_policy='depthwise', importance_type=None,\n",
       "              interaction_constraints='', learning_rate=0.300000012,\n",
       "              max_bin=256, max_cat_threshold=64, max_cat_to_onehot=4,\n",
       "              max_delta_step=0, max_depth=6, max_leaves=0, min_child_weight=1,\n",
       "              missing=nan, monotone_constraints='()', n_estimators=100,\n",
       "              n_jobs=0, num_parallel_tree=1, predictor='auto', random_state=0, ...)"
      ]
     },
     "execution_count": 45,
     "metadata": {},
     "output_type": "execute_result"
    }
   ],
   "source": [
    "model = XGBClassifier()\n",
    "model.fit(train_data, train_data_target)"
   ]
  },
  {
   "cell_type": "code",
   "execution_count": 46,
   "id": "6fcb5ae2",
   "metadata": {},
   "outputs": [],
   "source": [
    "# modeling :)\n"
   ]
  },
  {
   "cell_type": "markdown",
   "id": "33da5d2a",
   "metadata": {},
   "source": [
    "<h3 align=right style=\"line-height:200%;font-family:vazir;color:#0099cc\">\n",
    "<font face=\"vazir\" color=\"#0099cc\">\n",
    "معیار ارزیابی\n",
    "</font>\n",
    "</h3>\n",
    "\n",
    "<p dir=rtl style=\"direction: rtl; text-align: justify; line-height:200%; font-family:vazir; font-size:medium\">\n",
    "<font face=\"vazir\" size=3>\n",
    "    معیاری که برای ارزیابی عملکرد مدل انتخاب کرده‌ایم، <code>f1_score</code> نام دارد.\n",
    "    <br>\n",
    "    این معیار، سنجه ارزیابی کیفیت مدل شماست. به عبارت بهتر در سامانه داوری هم از همین معیار برای نمره‌دهی استفاده شده است.\n",
    "    <br>\n",
    "    پیشنهاد می‌شود با توجه به این معیار، عملکرد مدل خود را بر روی دادگان آموزش یا اعتبارسنجی ارزیابی کنید.\n",
    "</font>\n",
    "</p>"
   ]
  },
  {
   "cell_type": "code",
   "execution_count": 47,
   "id": "9be81026",
   "metadata": {},
   "outputs": [],
   "source": [
    "pred_train = model.predict(train_data)\n",
    "pred_valid = model.predict(valid_data)"
   ]
  },
  {
   "cell_type": "code",
   "execution_count": 48,
   "id": "bb0db637",
   "metadata": {},
   "outputs": [
    {
     "data": {
      "text/plain": [
       "0.9357601713062097"
      ]
     },
     "execution_count": 48,
     "metadata": {},
     "output_type": "execute_result"
    }
   ],
   "source": [
    "f1_score(pred_train, train_data_target)"
   ]
  },
  {
   "cell_type": "code",
   "execution_count": 49,
   "id": "b7de119e",
   "metadata": {},
   "outputs": [
    {
     "data": {
      "text/plain": [
       "0.8440145102781137"
      ]
     },
     "execution_count": 49,
     "metadata": {},
     "output_type": "execute_result"
    }
   ],
   "source": [
    "f1_score(pred_valid, valid_data_target)"
   ]
  },
  {
   "cell_type": "code",
   "execution_count": 50,
   "id": "2121dbff",
   "metadata": {},
   "outputs": [],
   "source": [
    "# evaluate model :)\n"
   ]
  },
  {
   "cell_type": "markdown",
   "id": "ddad09cf",
   "metadata": {},
   "source": [
    "<p dir=rtl style=\"direction: rtl; text-align: justify; line-height:200%; font-family:vazir; font-size:medium\">\n",
    "<font color=\"red\"><b color='red'>توجه:</b></font>\n",
    "<font face=\"vazir\" size=3>\n",
    " جهت کسب امتیاز کامل نیاز است تا پاسخ شما حداقل امتیاز <code>75%</code> را با توجه به معیار معرفی‌شده کسب نماید.\n",
    "</font>\n",
    "</p>"
   ]
  },
  {
   "cell_type": "markdown",
   "id": "4e9984de",
   "metadata": {},
   "source": [
    "<h2 align=right style=\"line-height:200%;font-family:vazir;color:#0099cc\">\n",
    "<font face=\"vazir\" color=\"#0099cc\">\n",
    " پیش‌بینی برای داده تست و خروجی\n",
    "</font>\n",
    "</h2>\n",
    "\n",
    "<p dir=rtl style=\"direction: rtl;text-align: right;line-height:200%;font-family:vazir;font-size:medium\">\n",
    "<font face=\"vazir\" size=3>\n",
    "    پس از مهندسی ویژگی و مدلسازی، الگوریتمی دارید که می‌تواند شما را از متغیرهای مستقل به متغیر هدف برساند.\n",
    "    <br>\n",
    "    از این مدل برای پیش‌بینی نمونه‌های موجود در داده تست استفاده کنید و نتایج را در قالب جدول (<code>dataframe</code>) زیر آماده کنید.\n",
    "</font>\n",
    "</p>\n",
    "\n",
    "<div dir=rtl style=\"direction: rtl;text-align: right;line-height:200%;font-family:vazir;font-size:medium\">\n",
    "<font face=\"vazir\" size=3>\n",
    "    \n",
    "|ستون|توضیحات|\n",
    "|:------:|:---:|\n",
    "|gender|جنسیت کاربر|\n",
    "    \n",
    "</font>\n",
    "</div>\n",
    "\n"
   ]
  },
  {
   "cell_type": "markdown",
   "id": "c2f6d82d",
   "metadata": {},
   "source": [
    "<p dir=rtl style=\"direction: rtl;text-align: right;line-height:200%;font-family:vazir;font-size:medium\">\n",
    "<font face=\"vazir\" size=3>\n",
    "    اسم دیتافریم باید <i>submission</i> باشد؛ در غیر این صورت، سامانه داوری نمی‌تواند تلاش‌ شما را ارزیابی کند.\n",
    "    <br>\n",
    "    این دیتافریم تنها شامل ۱ ستون با اسم <i>gender</i> است و ۲۰۰۰ سطر دارد.\n",
    "    <br>\n",
    "    به ازای هر سطر موجود در دیتافریم <i>test_data</i> شما باید یک مقدار پیشبینی شده داشته باشید.\n",
    "    <br>\n",
    "    جدول زیر، ۵ سطر ابتدایی دیتافریم <code>submission</code> را نشان می‌دهد. البته در جواب شما، مقادیر ستون <i>gender</i> ممکن است متفاوت باشد.\n",
    "</font>\n",
    "</p>\n",
    "\n",
    "<div style=\"text-align: right;line-height:200%;font-family:vazir;font-size:medium\">\n",
    "<font face=\"vazir\" size=3>\n",
    "    \n",
    "||gender|\n",
    "|----|-----|\n",
    "|0|woman|\n",
    "|1|woman|\n",
    "|2|man|\n",
    "|3|woman|\n",
    "|4|man|\n",
    "\n",
    "</font>\n",
    "</div>\n",
    "\n"
   ]
  },
  {
   "cell_type": "code",
   "execution_count": 51,
   "id": "28bcf1fb",
   "metadata": {},
   "outputs": [],
   "source": [
    "pred_test = model.predict(test_data)"
   ]
  },
  {
   "cell_type": "code",
   "execution_count": 53,
   "id": "3d4a0844",
   "metadata": {},
   "outputs": [],
   "source": [
    "# predict test samples\n",
    "submission = pd.DataFrame()\n",
    "\n",
    "submission['gender'] = pred_test\n",
    "submission['gender'].replace([0, 1], ['man', 'woman'], inplace=True)"
   ]
  },
  {
   "cell_type": "markdown",
   "id": "0a77e7cd",
   "metadata": {},
   "source": [
    "<h2 align=right style=\"line-height:200%;font-family:vazir;color:#0099cc\">\n",
    "<font face=\"vazir\" color=\"#0099cc\">\n",
    "<b>سلول جواب‌ساز</b>\n",
    "</font>\n",
    "</h2>\n",
    "\n",
    "<p dir=rtl style=\"direction: rtl; text-align: justify; line-height:200%; font-family:vazir; font-size:medium\">\n",
    "<font face=\"vazir\" size=3>\n",
    "    برای ساخته‌شدن فایل <code>result.zip</code> سلول زیر را اجرا کنید. توجه داشته باشید که پیش از اجرای سلول زیر تغییرات اعمال شده در نت‌بوک را ذخیره کرده باشید (<code>ctrl+s</code>) تا در صورت نیاز به پشتیبانی امکان بررسی کد شما وجود داشته باشد.\n",
    "</font>\n",
    "</p>"
   ]
  },
  {
   "cell_type": "code",
   "execution_count": 54,
   "id": "2c3bcd76",
   "metadata": {},
   "outputs": [
    {
     "name": "stdout",
     "output_type": "stream",
     "text": [
      "File Paths:\n",
      "['gender_detection.ipynb', 'submission.csv']\n"
     ]
    }
   ],
   "source": [
    "import zipfile\n",
    "import joblib\n",
    "\n",
    "def compress(file_names):\n",
    "    print(\"File Paths:\")\n",
    "    print(file_names)\n",
    "    compression = zipfile.ZIP_DEFLATED\n",
    "    with zipfile.ZipFile(\"result.zip\", mode=\"w\") as zf:\n",
    "        for file_name in file_names:\n",
    "            zf.write('./' + file_name, file_name, compress_type=compression)\n",
    "\n",
    "submission.to_csv('submission.csv', index=False)\n",
    "file_names = ['gender_detection.ipynb', 'submission.csv']\n",
    "compress(file_names)"
   ]
  }
 ],
 "metadata": {
  "kernelspec": {
   "display_name": "qenv",
   "language": "python",
   "name": "python3"
  },
  "language_info": {
   "codemirror_mode": {
    "name": "ipython",
    "version": 3
   },
   "file_extension": ".py",
   "mimetype": "text/x-python",
   "name": "python",
   "nbconvert_exporter": "python",
   "pygments_lexer": "ipython3",
   "version": "3.9.13"
  }
 },
 "nbformat": 4,
 "nbformat_minor": 5
}
