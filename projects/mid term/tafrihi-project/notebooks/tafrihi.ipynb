{
 "cells": [
  {
   "cell_type": "markdown",
   "id": "d333515a",
   "metadata": {},
   "source": [
    "<h1 align=center style=\"line-height:200%;font-family:vazir;color:#0099cc\">\n",
    "<font face=\"vazir\" color=\"#0099cc\">\n",
    "تفریحی\n",
    "</font>\n",
    "</h1>"
   ]
  },
  {
   "cell_type": "markdown",
   "id": "6ed20bff",
   "metadata": {},
   "source": [
    "<h2 align=right style=\"line-height:200%;font-family:vazir;color:#0099cc\">\n",
    "<font face=\"vazir\" color=\"#0099cc\">\n",
    "مقدمه و صورت مسئله\n",
    "</font>\n",
    "</h2>\n",
    "\n",
    "<p dir=rtl style=\"direction: rtl; text-align: justify; line-height:200%; font-family:vazir; font-size:medium\">\n",
    "<font face=\"vazir\" size=3>\n",
    "    در این تمرین قصد داریم به پیشبینی دلیل سفر کاربران بپردازیم. برخی از کاربران مستربلیط به دلیل کاری و برخی دیگر به دلایل تفریحی به سفر می‌روند. به منظور شخصی‌سازی بیشتر و دقیق‌تر، مستربلیط قصد دارد بداند هر بلیط به چه دلیلی رزرو می‌شود.\n",
    "    <br>\n",
    "    حال از داده‌هایی که در اختیارتان قرار گرفته است استفاده کنید و مدلی آموزش دهید که تفریحی یا کاری بودن سفر را تشخیص دهد.\n",
    "</font>\n",
    "</p>"
   ]
  },
  {
   "cell_type": "markdown",
   "id": "c5af1784",
   "metadata": {},
   "source": [
    "<h2 align=right style=\"line-height:200%;font-family:vazir;color:#0099cc\">\n",
    "<font face=\"vazir\" color=\"#0099cc\">\n",
    "وارد کردن کتابخانه‌های مورد نیاز\n",
    "</font>\n",
    "</h2>\n",
    "\n",
    "<p dir=rtl style=\"direction: rtl; text-align: justify; line-height:200%; font-family:vazir; font-size:medium\">\n",
    "<font face=\"vazir\" size=3>\n",
    "    ابتدا کتابخانه‌های مورد نیازتان را وارد کنید.\n",
    "</font>\n",
    "</p>"
   ]
  },
  {
   "cell_type": "code",
   "execution_count": 2,
   "id": "99450f9e",
   "metadata": {},
   "outputs": [],
   "source": [
    "import pandas as pd\n",
    "import numpy as np "
   ]
  },
  {
   "attachments": {},
   "cell_type": "markdown",
   "id": "72faaed8",
   "metadata": {},
   "source": [
    "<h2 align=right style=\"line-height:200%;font-family:vazir;color:#0099cc\">\n",
    "<font face=\"vazir\" color=\"#0099cc\">\n",
    "معرفی مجموعه داده\n",
    "</font>\n",
    "</h2>\n",
    "\n",
    "<p dir=rtl style=\"direction: rtl; text-align: justify; line-height:200%; font-family:vazir; font-size:medium\">\n",
    "<font face=\"vazir\" size=3>\n",
    "مجموعه داده آموزشی شامل ۱۰۱۰۱۷ سطر است که در جدول زیر، توضیحات هر ستون آمده است.\n",
    "</font>\n",
    "</p>\n",
    "\n",
    "<center>\n",
    "<div dir=rtl style=\"direction: rtl;line-height:200%;font-family:vazir;font-size:medium\">\n",
    "<font face=\"vazir\" size=3>\n",
    "    \n",
    "|ستون|توضیحات|\n",
    "|:------:|:---:|\n",
    "|Created|زمان ثبت بلیط|\n",
    "|CancelTime|زمانی که مسافر بلیط را کنسل کرده است|\n",
    "|DepartureTime|زمان حرکت|\n",
    "|BillID|شناسه خرید|\n",
    "|TicketID|شناسه بلیط|\n",
    "|ReserveStatus|وضعیت پرداخت مشتری|\n",
    "|UserID|شناسه کاربری|\n",
    "|Male|آیا بلیط متعلق به زن است یا مرد|\n",
    "|Price|قیمت بلیط بدون تخفیف|\n",
    "|CouponDiscount|تخفیفی که شخص روی بلیط اعمال کرده است|\n",
    "|From|مبدا سفر|\n",
    "|To|مقصد سفر|\n",
    "|Domestic|آیا سفر، داخلی است یا خارجی|\n",
    "|VehicleType|جزئیات وسیله نقلیه را مشخص می‌کند|\n",
    "|VehicleClass|آیا وسیله نقلیه، فرست‌کلس است یا نه|\n",
    "|Vehicle|نوع وسیله نقلیه|\n",
    "|Cancel|آیا بلیط کنسل شده‌است یا نه|\n",
    "|HashPassportNumber_p|هش‌شده شماره پاسپورت|\n",
    "|HashEmail|هش‌شده ایمیل|\n",
    "|BuyerMobile|هش‌شده شماره موبایل|\n",
    "|NationalCode|هش‌شده شماره‌ملی|\n",
    "|TripReason|دلیل سفر|\n",
    "    \n",
    "</font>\n",
    "</div>\n",
    "</center>\n",
    "\n",
    "\n",
    "<p dir=rtl style=\"direction: rtl; text-align: justify; line-height:200%; font-family:vazir; font-size:medium\">\n",
    "<font face=\"vazir\" size=3>\n",
    "    مجموعه داده آزمایش نیز مانند مجموعه آموزش است با این تفاوت که ستون <code>TripReason</code> که متغیر هدف مسئله است را در خود ندارد. مجموعه داده آزمایش ۴۳۲۹۳ سطر دارد.\n",
    "</font>\n",
    "</p>\n"
   ]
  },
  {
   "cell_type": "markdown",
   "id": "e99bbe9b",
   "metadata": {},
   "source": [
    "<h2 align=right style=\"line-height:200%;font-family:vazir;color:#0099cc\">\n",
    "<font face=\"vazir\" color=\"#0099cc\">\n",
    "خواندن مجموعه داده\n",
    "</font>\n",
    "</h2>\n",
    "\n",
    "<p dir=rtl style=\"direction: rtl; text-align: justify; line-height:200%; font-family:vazir; font-size:medium\">\n",
    "<font face=\"vazir\" size=3>\n",
    "    در ابتدا نیاز است فایل‌های مجموعه‌داده را بخوانید. نمونه‌های آموزشی در فایل <code>train.csv</code> و نمونه‌های آزمون که باید دسته‌ی آن‌ها را پیش‌بینی کنید در فایل <code>test.csv</code> ذخیره شده‌اند. اگر لازم دانستید می‌توانید به دلخواه خود بخشی از دادگان آموزشی را به عنوان دادگان اعتبارسنجی نیز جدا کنید.\n",
    "</font>\n",
    "</p>"
   ]
  },
  {
   "cell_type": "code",
   "execution_count": 3,
   "id": "7dcb9e87",
   "metadata": {},
   "outputs": [],
   "source": [
    "train_data = pd.read_csv('../data/train_data.csv')\n",
    "# train_data"
   ]
  },
  {
   "cell_type": "code",
   "execution_count": 4,
   "id": "adb6ba5a",
   "metadata": {},
   "outputs": [],
   "source": [
    "test_data = pd.read_csv('../data/test_data.csv')\n",
    "# test_data"
   ]
  },
  {
   "cell_type": "code",
   "execution_count": 5,
   "id": "ac10b6f1",
   "metadata": {},
   "outputs": [
    {
     "data": {
      "text/html": [
       "<div>\n",
       "<style scoped>\n",
       "    .dataframe tbody tr th:only-of-type {\n",
       "        vertical-align: middle;\n",
       "    }\n",
       "\n",
       "    .dataframe tbody tr th {\n",
       "        vertical-align: top;\n",
       "    }\n",
       "\n",
       "    .dataframe thead th {\n",
       "        text-align: right;\n",
       "    }\n",
       "</style>\n",
       "<table border=\"1\" class=\"dataframe\">\n",
       "  <thead>\n",
       "    <tr style=\"text-align: right;\">\n",
       "      <th></th>\n",
       "      <th>Created</th>\n",
       "      <th>CancelTime</th>\n",
       "      <th>DepartureTime</th>\n",
       "      <th>BillID</th>\n",
       "      <th>TicketID</th>\n",
       "      <th>ReserveStatus</th>\n",
       "      <th>UserID</th>\n",
       "      <th>Male</th>\n",
       "      <th>Price</th>\n",
       "      <th>CouponDiscount</th>\n",
       "      <th>...</th>\n",
       "      <th>Domestic</th>\n",
       "      <th>VehicleType</th>\n",
       "      <th>VehicleClass</th>\n",
       "      <th>TripReason</th>\n",
       "      <th>Vehicle</th>\n",
       "      <th>Cancel</th>\n",
       "      <th>HashPassportNumber_p</th>\n",
       "      <th>HashEmail</th>\n",
       "      <th>BuyerMobile</th>\n",
       "      <th>NationalCode</th>\n",
       "    </tr>\n",
       "  </thead>\n",
       "  <tbody>\n",
       "    <tr>\n",
       "      <th>0</th>\n",
       "      <td>2022-10-23 09:38:49.110</td>\n",
       "      <td>NaN</td>\n",
       "      <td>2022-11-02 23:59:00</td>\n",
       "      <td>39710203</td>\n",
       "      <td>1091777.0</td>\n",
       "      <td>5</td>\n",
       "      <td>122885.0</td>\n",
       "      <td>True</td>\n",
       "      <td>6600000.0</td>\n",
       "      <td>34425.0</td>\n",
       "      <td>...</td>\n",
       "      <td>1</td>\n",
       "      <td>NaN</td>\n",
       "      <td>False</td>\n",
       "      <td>Work</td>\n",
       "      <td>Plane</td>\n",
       "      <td>0</td>\n",
       "      <td>NaN</td>\n",
       "      <td>66c7f29e3b92f3b77e20830ac29e7758037a53d2238a5b...</td>\n",
       "      <td>764974891906</td>\n",
       "      <td>477368495</td>\n",
       "    </tr>\n",
       "    <tr>\n",
       "      <th>1</th>\n",
       "      <td>2022-08-15 14:51:43.160</td>\n",
       "      <td>NaN</td>\n",
       "      <td>2022-08-18 04:15:00</td>\n",
       "      <td>38689463</td>\n",
       "      <td>1070902.0</td>\n",
       "      <td>5</td>\n",
       "      <td>876925.0</td>\n",
       "      <td>True</td>\n",
       "      <td>9500000.0</td>\n",
       "      <td>0.0</td>\n",
       "      <td>...</td>\n",
       "      <td>1</td>\n",
       "      <td>NaN</td>\n",
       "      <td>False</td>\n",
       "      <td>Int</td>\n",
       "      <td>Plane</td>\n",
       "      <td>0</td>\n",
       "      <td>NaN</td>\n",
       "      <td>b24634843858a4175d03422aa9e7211ec3b9f3ce4c481c...</td>\n",
       "      <td>27479149496</td>\n",
       "      <td>15987669</td>\n",
       "    </tr>\n",
       "    <tr>\n",
       "      <th>2</th>\n",
       "      <td>2022-09-20 17:25:27.250</td>\n",
       "      <td>NaN</td>\n",
       "      <td>2022-09-21 11:00:00</td>\n",
       "      <td>39245173</td>\n",
       "      <td>7624237.0</td>\n",
       "      <td>3</td>\n",
       "      <td>916640.0</td>\n",
       "      <td>False</td>\n",
       "      <td>2000000.0</td>\n",
       "      <td>0.0</td>\n",
       "      <td>...</td>\n",
       "      <td>1</td>\n",
       "      <td>VIP 2+1</td>\n",
       "      <td>True</td>\n",
       "      <td>Work</td>\n",
       "      <td>Bus</td>\n",
       "      <td>0</td>\n",
       "      <td>NaN</td>\n",
       "      <td>NaN</td>\n",
       "      <td>323657282999</td>\n",
       "      <td>667640412</td>\n",
       "    </tr>\n",
       "    <tr>\n",
       "      <th>3</th>\n",
       "      <td>2022-06-25 11:32:53.980</td>\n",
       "      <td>NaN</td>\n",
       "      <td>2022-06-26 08:30:00</td>\n",
       "      <td>37957585</td>\n",
       "      <td>2867547.0</td>\n",
       "      <td>2</td>\n",
       "      <td>NaN</td>\n",
       "      <td>False</td>\n",
       "      <td>40000.0</td>\n",
       "      <td>0.0</td>\n",
       "      <td>...</td>\n",
       "      <td>1</td>\n",
       "      <td>3 ستاره اتوبوسي</td>\n",
       "      <td>NaN</td>\n",
       "      <td>Int</td>\n",
       "      <td>Train</td>\n",
       "      <td>0</td>\n",
       "      <td>NaN</td>\n",
       "      <td>NaN</td>\n",
       "      <td>169459057632</td>\n",
       "      <td>392476186</td>\n",
       "    </tr>\n",
       "    <tr>\n",
       "      <th>4</th>\n",
       "      <td>2022-06-01 11:30:53.633</td>\n",
       "      <td>NaN</td>\n",
       "      <td>2022-06-02 23:00:00</td>\n",
       "      <td>37584530</td>\n",
       "      <td>7212559.0</td>\n",
       "      <td>3</td>\n",
       "      <td>NaN</td>\n",
       "      <td>True</td>\n",
       "      <td>1130000.0</td>\n",
       "      <td>0.0</td>\n",
       "      <td>...</td>\n",
       "      <td>1</td>\n",
       "      <td>اسکانیا تک صندلی ۳۱نفره</td>\n",
       "      <td>True</td>\n",
       "      <td>Int</td>\n",
       "      <td>Bus</td>\n",
       "      <td>0</td>\n",
       "      <td>NaN</td>\n",
       "      <td>NaN</td>\n",
       "      <td>408595008421</td>\n",
       "      <td>79497837</td>\n",
       "    </tr>\n",
       "  </tbody>\n",
       "</table>\n",
       "<p>5 rows × 22 columns</p>\n",
       "</div>"
      ],
      "text/plain": [
       "                   Created CancelTime        DepartureTime    BillID  \\\n",
       "0  2022-10-23 09:38:49.110        NaN  2022-11-02 23:59:00  39710203   \n",
       "1  2022-08-15 14:51:43.160        NaN  2022-08-18 04:15:00  38689463   \n",
       "2  2022-09-20 17:25:27.250        NaN  2022-09-21 11:00:00  39245173   \n",
       "3  2022-06-25 11:32:53.980        NaN  2022-06-26 08:30:00  37957585   \n",
       "4  2022-06-01 11:30:53.633        NaN  2022-06-02 23:00:00  37584530   \n",
       "\n",
       "    TicketID  ReserveStatus    UserID   Male      Price  CouponDiscount  ...  \\\n",
       "0  1091777.0              5  122885.0   True  6600000.0         34425.0  ...   \n",
       "1  1070902.0              5  876925.0   True  9500000.0             0.0  ...   \n",
       "2  7624237.0              3  916640.0  False  2000000.0             0.0  ...   \n",
       "3  2867547.0              2       NaN  False    40000.0             0.0  ...   \n",
       "4  7212559.0              3       NaN   True  1130000.0             0.0  ...   \n",
       "\n",
       "  Domestic              VehicleType  VehicleClass TripReason Vehicle Cancel  \\\n",
       "0        1                      NaN         False       Work   Plane      0   \n",
       "1        1                      NaN         False        Int   Plane      0   \n",
       "2        1                  VIP 2+1          True       Work     Bus      0   \n",
       "3        1          3 ستاره اتوبوسي           NaN        Int   Train      0   \n",
       "4        1  اسکانیا تک صندلی ۳۱نفره          True        Int     Bus      0   \n",
       "\n",
       "  HashPassportNumber_p                                          HashEmail  \\\n",
       "0                  NaN  66c7f29e3b92f3b77e20830ac29e7758037a53d2238a5b...   \n",
       "1                  NaN  b24634843858a4175d03422aa9e7211ec3b9f3ce4c481c...   \n",
       "2                  NaN                                                NaN   \n",
       "3                  NaN                                                NaN   \n",
       "4                  NaN                                                NaN   \n",
       "\n",
       "    BuyerMobile NationalCode  \n",
       "0  764974891906    477368495  \n",
       "1   27479149496     15987669  \n",
       "2  323657282999    667640412  \n",
       "3  169459057632    392476186  \n",
       "4  408595008421     79497837  \n",
       "\n",
       "[5 rows x 22 columns]"
      ]
     },
     "execution_count": 5,
     "metadata": {},
     "output_type": "execute_result"
    }
   ],
   "source": [
    "train_data.head()"
   ]
  },
  {
   "cell_type": "code",
   "execution_count": 6,
   "id": "6799df74",
   "metadata": {},
   "outputs": [
    {
     "name": "stdout",
     "output_type": "stream",
     "text": [
      "<class 'pandas.core.frame.DataFrame'>\n",
      "RangeIndex: 43293 entries, 0 to 43292\n",
      "Data columns (total 21 columns):\n",
      " #   Column                Non-Null Count  Dtype  \n",
      "---  ------                --------------  -----  \n",
      " 0   Created               43293 non-null  object \n",
      " 1   CancelTime            6547 non-null   object \n",
      " 2   DepartureTime         43293 non-null  object \n",
      " 3   BillID                43293 non-null  int64  \n",
      " 4   TicketID              43293 non-null  float64\n",
      " 5   ReserveStatus         43293 non-null  int64  \n",
      " 6   UserID                18304 non-null  float64\n",
      " 7   Male                  43293 non-null  bool   \n",
      " 8   Price                 43293 non-null  float64\n",
      " 9   CouponDiscount        43293 non-null  float64\n",
      " 10  From                  43293 non-null  object \n",
      " 11  To                    43293 non-null  object \n",
      " 12  Domestic              43293 non-null  int64  \n",
      " 13  VehicleType           39916 non-null  object \n",
      " 14  VehicleClass          26955 non-null  object \n",
      " 15  Vehicle               43293 non-null  object \n",
      " 16  Cancel                43293 non-null  int64  \n",
      " 17  HashPassportNumber_p  394 non-null    object \n",
      " 18  HashEmail             18537 non-null  object \n",
      " 19  BuyerMobile           43293 non-null  int64  \n",
      " 20  NationalCode          43293 non-null  int64  \n",
      "dtypes: bool(1), float64(4), int64(6), object(10)\n",
      "memory usage: 6.6+ MB\n"
     ]
    }
   ],
   "source": [
    "test_data.info()"
   ]
  },
  {
   "cell_type": "code",
   "execution_count": null,
   "id": "01ed8129",
   "metadata": {},
   "outputs": [],
   "source": [
    "train_data_target = train_data['TripReason']\n",
    "train_data.drop(columns='TripReason', axis=1, inplace=True)"
   ]
  },
  {
   "cell_type": "markdown",
   "id": "23daec54",
   "metadata": {},
   "source": [
    "<h2 align=right style=\"line-height:200%;font-family:vazir;color:#0099cc\">\n",
    "<font face=\"vazir\" color=\"#0099cc\">\n",
    "پیش‌پردازش و مهندسی ویژگی\n",
    "</font>\n",
    "</h2>\n",
    "\n",
    "<p dir=rtl style=\"direction: rtl; text-align: justify; line-height:200%; font-family:vazir; font-size:medium\">\n",
    "<font face=\"vazir\" size=3>\n",
    "    در این سوال شما می‌توانید از هر تکنیک پیش‌پردازش/مهندسی ویژگی که در فصل‌های گذشته آموختید، استفاده کنید.\n",
    "    <br>\n",
    "    تکنیک‌هایی که استفاده می‌کنید به شکل مستقیم مورد ارزیابی توسط سامانه داوری قرار <b>نمی‌گیرند.</b> بلکه همه آن‌ها در دقت مدل شما تاثیر خواهند گذاشت؛ بنابراین هر چه پیش‌پردازش/مهندسی ویژگی بهتری انجام دهید تا دقت مدل بهبود پیدا کند، امتیاز بیشتری از این سوال کسب خواهید کرد.\n",
    "</font>\n",
    "</p>"
   ]
  },
  {
   "cell_type": "code",
   "execution_count": null,
   "id": "09a138af",
   "metadata": {},
   "outputs": [],
   "source": [
    "# to_delete = ['BillID', 'TicketID','ReserveStatus', 'UserID', 'VehicleType',\n",
    "#                'HashPassportNumber_p', 'HashEmail', 'BuyerMobile', 'NationalCode',\n",
    "#                  'CancelTime', 'DepartureTime', 'Created', 'From', 'To', 'CouponDiscount']"
   ]
  },
  {
   "cell_type": "code",
   "execution_count": null,
   "id": "b679f908",
   "metadata": {},
   "outputs": [],
   "source": [
    "to_delete = ['BillID', 'TicketID','ReserveStatus', 'UserID', 'VehicleType',\n",
    "               'HashPassportNumber_p', 'HashEmail', 'BuyerMobile', 'NationalCode',\n",
    "                 'CancelTime', 'DepartureTime', 'Created', 'From', 'CouponDiscount']"
   ]
  },
  {
   "cell_type": "code",
   "execution_count": 32,
   "id": "aaec525c",
   "metadata": {},
   "outputs": [],
   "source": [
    "train_data.drop(columns=to_delete, axis=1, inplace=True)\n",
    "test_data.drop(columns=to_delete, axis=1, inplace=True)"
   ]
  },
  {
   "cell_type": "code",
   "execution_count": 33,
   "id": "9b99384d",
   "metadata": {},
   "outputs": [],
   "source": [
    "from sklearn.preprocessing import OrdinalEncoder\n",
    "\n",
    "encoder = OrdinalEncoder(handle_unknown='use_encoded_value', unknown_value=-1)\n",
    "\n",
    "# Fit and transform the training data\n",
    "train_data['To'] = encoder.fit_transform(train_data[['To']])\n",
    "\n",
    "# Transform the test data\n",
    "test_data['To'] = encoder.transform(test_data[['To']])"
   ]
  },
  {
   "cell_type": "code",
   "execution_count": 34,
   "id": "11e75b17",
   "metadata": {},
   "outputs": [],
   "source": [
    "train_data.loc[train_data['VehicleClass'].isna(), 'VehicleClass'] = 'train'\n",
    "test_data.loc[test_data['VehicleClass'].isna(), 'VehicleClass'] = 'train'\n",
    "\n",
    "train_data = pd.concat([train_data, pd.get_dummies(train_data['VehicleClass'], prefix='VehicleClass')], axis=1)\n",
    "test_data = pd.concat([test_data, pd.get_dummies(test_data['VehicleClass'], prefix='VehicleClass')], axis=1)\n",
    "\n",
    "train_data.drop(columns='VehicleClass', axis=1, inplace=True)\n",
    "test_data.drop(columns='VehicleClass', axis=1, inplace=True)\n"
   ]
  },
  {
   "cell_type": "code",
   "execution_count": 35,
   "id": "76a56011",
   "metadata": {},
   "outputs": [],
   "source": [
    "train_data = pd.concat([train_data, pd.get_dummies(train_data['Male'], prefix='gender')], axis=1)\n",
    "test_data = pd.concat([test_data, pd.get_dummies(test_data['Male'], prefix='gender')], axis=1)\n",
    "\n",
    "train_data.drop(columns='Male', axis=1, inplace=True)\n",
    "test_data.drop(columns='Male', axis=1, inplace=True)"
   ]
  },
  {
   "cell_type": "code",
   "execution_count": 36,
   "id": "78652670",
   "metadata": {},
   "outputs": [],
   "source": [
    "train_data = pd.concat([train_data, pd.get_dummies(train_data['Vehicle'], prefix='Vehicle')], axis=1)\n",
    "test_data = pd.concat([test_data, pd.get_dummies(test_data['Vehicle'], prefix='Vehicle')], axis=1)\n",
    "\n",
    "train_data.drop(columns='Vehicle', axis=1, inplace=True)\n",
    "test_data.drop(columns='Vehicle', axis=1, inplace=True)"
   ]
  },
  {
   "cell_type": "code",
   "execution_count": 37,
   "id": "f72359f2",
   "metadata": {},
   "outputs": [],
   "source": [
    "from sklearn.preprocessing import MinMaxScaler\n",
    "scaler = MinMaxScaler()\n",
    "\n",
    "train_data['Price'] = scaler.fit_transform(train_data['Price'].values.reshape(-1, 1))\n",
    "test_data['Price'] = scaler.transform(test_data['Price'].values.reshape(-1, 1))"
   ]
  },
  {
   "cell_type": "code",
   "execution_count": 38,
   "id": "f6b9a378",
   "metadata": {},
   "outputs": [
    {
     "name": "stdout",
     "output_type": "stream",
     "text": [
      "<class 'pandas.core.frame.DataFrame'>\n",
      "RangeIndex: 101017 entries, 0 to 101016\n",
      "Data columns (total 13 columns):\n",
      " #   Column                      Non-Null Count   Dtype  \n",
      "---  ------                      --------------   -----  \n",
      " 0   Price                       101017 non-null  float64\n",
      " 1   To                          101017 non-null  float64\n",
      " 2   Domestic                    101017 non-null  int64  \n",
      " 3   Cancel                      101017 non-null  int64  \n",
      " 4   VehicleClass_False          101017 non-null  uint8  \n",
      " 5   VehicleClass_True           101017 non-null  uint8  \n",
      " 6   VehicleClass_train          101017 non-null  uint8  \n",
      " 7   gender_False                101017 non-null  uint8  \n",
      " 8   gender_True                 101017 non-null  uint8  \n",
      " 9   Vehicle_Bus                 101017 non-null  uint8  \n",
      " 10  Vehicle_InternationalPlane  101017 non-null  uint8  \n",
      " 11  Vehicle_Plane               101017 non-null  uint8  \n",
      " 12  Vehicle_Train               101017 non-null  uint8  \n",
      "dtypes: float64(2), int64(2), uint8(9)\n",
      "memory usage: 3.9 MB\n"
     ]
    }
   ],
   "source": [
    "train_data.info()"
   ]
  },
  {
   "cell_type": "code",
   "execution_count": 39,
   "id": "7e457c9f",
   "metadata": {},
   "outputs": [],
   "source": [
    "# do some preprocessing "
   ]
  },
  {
   "cell_type": "code",
   "execution_count": 56,
   "id": "3ebe5209",
   "metadata": {},
   "outputs": [],
   "source": [
    "# Save the train_data to a CSV file\n",
    "train_data.to_csv('train_data_preprocessed.csv', index=False)\n",
    "\n",
    "\n",
    "train_data_target.to_csv('train_data_target_preprocessed.csv', index=False)\n",
    "\n",
    "# Save the test_data to a CSV file\n",
    "test_data.to_csv('test_data_preprocessed.csv', index=False)\n",
    "\n"
   ]
  },
  {
   "cell_type": "code",
   "execution_count": 41,
   "id": "352df1c4",
   "metadata": {},
   "outputs": [
    {
     "name": "stdout",
     "output_type": "stream",
     "text": [
      "<class 'pandas.core.frame.DataFrame'>\n",
      "RangeIndex: 101017 entries, 0 to 101016\n",
      "Data columns (total 13 columns):\n",
      " #   Column                      Non-Null Count   Dtype  \n",
      "---  ------                      --------------   -----  \n",
      " 0   Price                       101017 non-null  float64\n",
      " 1   To                          101017 non-null  float64\n",
      " 2   Domestic                    101017 non-null  int64  \n",
      " 3   Cancel                      101017 non-null  int64  \n",
      " 4   VehicleClass_False          101017 non-null  uint8  \n",
      " 5   VehicleClass_True           101017 non-null  uint8  \n",
      " 6   VehicleClass_train          101017 non-null  uint8  \n",
      " 7   gender_False                101017 non-null  uint8  \n",
      " 8   gender_True                 101017 non-null  uint8  \n",
      " 9   Vehicle_Bus                 101017 non-null  uint8  \n",
      " 10  Vehicle_InternationalPlane  101017 non-null  uint8  \n",
      " 11  Vehicle_Plane               101017 non-null  uint8  \n",
      " 12  Vehicle_Train               101017 non-null  uint8  \n",
      "dtypes: float64(2), int64(2), uint8(9)\n",
      "memory usage: 3.9 MB\n"
     ]
    }
   ],
   "source": [
    "train_data.info()"
   ]
  },
  {
   "cell_type": "code",
   "execution_count": 42,
   "id": "e2f3bc79",
   "metadata": {},
   "outputs": [
    {
     "name": "stdout",
     "output_type": "stream",
     "text": [
      "<class 'pandas.core.frame.DataFrame'>\n",
      "RangeIndex: 43293 entries, 0 to 43292\n",
      "Data columns (total 13 columns):\n",
      " #   Column                      Non-Null Count  Dtype  \n",
      "---  ------                      --------------  -----  \n",
      " 0   Price                       43293 non-null  float64\n",
      " 1   To                          43293 non-null  float64\n",
      " 2   Domestic                    43293 non-null  int64  \n",
      " 3   Cancel                      43293 non-null  int64  \n",
      " 4   VehicleClass_False          43293 non-null  uint8  \n",
      " 5   VehicleClass_True           43293 non-null  uint8  \n",
      " 6   VehicleClass_train          43293 non-null  uint8  \n",
      " 7   gender_False                43293 non-null  uint8  \n",
      " 8   gender_True                 43293 non-null  uint8  \n",
      " 9   Vehicle_Bus                 43293 non-null  uint8  \n",
      " 10  Vehicle_InternationalPlane  43293 non-null  uint8  \n",
      " 11  Vehicle_Plane               43293 non-null  uint8  \n",
      " 12  Vehicle_Train               43293 non-null  uint8  \n",
      "dtypes: float64(2), int64(2), uint8(9)\n",
      "memory usage: 1.7 MB\n"
     ]
    }
   ],
   "source": [
    "test_data.info()"
   ]
  },
  {
   "cell_type": "code",
   "execution_count": 43,
   "id": "e4f3db3a",
   "metadata": {},
   "outputs": [],
   "source": [
    "from sklearn.model_selection import train_test_split\n",
    "\n",
    "train_data, valid_data, train_data_target, valid_data_target = train_test_split(train_data, train_data_target, test_size=.1, random_state=50)"
   ]
  },
  {
   "cell_type": "markdown",
   "id": "f99f2c94",
   "metadata": {},
   "source": [
    "<h2 align=right style=\"line-height:200%;font-family:vazir;color:#0099cc\">\n",
    "<font face=\"vazir\" color=\"#0099cc\">\n",
    "مدل‌سازی\n",
    "</font>\n",
    "</h2>\n",
    "\n",
    "<p dir=rtl style=\"direction: rtl; text-align: justify; line-height:200%; font-family:vazir; font-size:medium\">\n",
    "<font face=\"vazir\" size=3>\n",
    "    حال که داده را پاکسازی کرده و احتمالا ویژگی‌هایی را به آن افزوده یا از آن حذف کرده‌اید، وقت آن است که مدلی آموزش دهید که بتواند متغیر هدف این مسئله را پیش‌بینی کند.\n",
    "    <br>\n",
    "    بر خلاف سایر تمرین‌های کالج، در این تمرین شما مجاز هستید از هر مدلی که آموخته‌اید استفاده کنید. به عبارت بهتر، هدف این سوال پیش‌بینی هرچه بهتر متغیر هدف مسئله است. انتظار ما این است که نحوه کار با کتابخانه‌های یادگیری ماشین را در حدی آموخته باشید که بتوانید با بهترین عملکرد، مسئله را حل کنید!\n",
    "</font>\n",
    "</p>"
   ]
  },
  {
   "cell_type": "markdown",
   "id": "eb5dfd40",
   "metadata": {},
   "source": [
    "## Random Forest"
   ]
  },
  {
   "cell_type": "code",
   "execution_count": 44,
   "id": "cb5b988b",
   "metadata": {},
   "outputs": [],
   "source": [
    "from sklearn.ensemble import RandomForestClassifier"
   ]
  },
  {
   "cell_type": "code",
   "execution_count": 45,
   "id": "03d20a30",
   "metadata": {},
   "outputs": [],
   "source": [
    "# modeling \n",
    "classifier = RandomForestClassifier(bootstrap=True, max_depth=None, max_samples=None, n_estimators=80)"
   ]
  },
  {
   "cell_type": "code",
   "execution_count": 46,
   "id": "9ff10b38",
   "metadata": {},
   "outputs": [
    {
     "name": "stdout",
     "output_type": "stream",
     "text": [
      "<class 'pandas.core.frame.DataFrame'>\n",
      "Int64Index: 90915 entries, 15088 to 14000\n",
      "Data columns (total 13 columns):\n",
      " #   Column                      Non-Null Count  Dtype  \n",
      "---  ------                      --------------  -----  \n",
      " 0   Price                       90915 non-null  float64\n",
      " 1   To                          90915 non-null  float64\n",
      " 2   Domestic                    90915 non-null  int64  \n",
      " 3   Cancel                      90915 non-null  int64  \n",
      " 4   VehicleClass_False          90915 non-null  uint8  \n",
      " 5   VehicleClass_True           90915 non-null  uint8  \n",
      " 6   VehicleClass_train          90915 non-null  uint8  \n",
      " 7   gender_False                90915 non-null  uint8  \n",
      " 8   gender_True                 90915 non-null  uint8  \n",
      " 9   Vehicle_Bus                 90915 non-null  uint8  \n",
      " 10  Vehicle_InternationalPlane  90915 non-null  uint8  \n",
      " 11  Vehicle_Plane               90915 non-null  uint8  \n",
      " 12  Vehicle_Train               90915 non-null  uint8  \n",
      "dtypes: float64(2), int64(2), uint8(9)\n",
      "memory usage: 4.2 MB\n"
     ]
    }
   ],
   "source": [
    "train_data.info()"
   ]
  },
  {
   "cell_type": "code",
   "execution_count": 47,
   "id": "e1712b2e",
   "metadata": {},
   "outputs": [
    {
     "data": {
      "text/html": [
       "<style>#sk-container-id-1 {color: black;background-color: white;}#sk-container-id-1 pre{padding: 0;}#sk-container-id-1 div.sk-toggleable {background-color: white;}#sk-container-id-1 label.sk-toggleable__label {cursor: pointer;display: block;width: 100%;margin-bottom: 0;padding: 0.3em;box-sizing: border-box;text-align: center;}#sk-container-id-1 label.sk-toggleable__label-arrow:before {content: \"▸\";float: left;margin-right: 0.25em;color: #696969;}#sk-container-id-1 label.sk-toggleable__label-arrow:hover:before {color: black;}#sk-container-id-1 div.sk-estimator:hover label.sk-toggleable__label-arrow:before {color: black;}#sk-container-id-1 div.sk-toggleable__content {max-height: 0;max-width: 0;overflow: hidden;text-align: left;background-color: #f0f8ff;}#sk-container-id-1 div.sk-toggleable__content pre {margin: 0.2em;color: black;border-radius: 0.25em;background-color: #f0f8ff;}#sk-container-id-1 input.sk-toggleable__control:checked~div.sk-toggleable__content {max-height: 200px;max-width: 100%;overflow: auto;}#sk-container-id-1 input.sk-toggleable__control:checked~label.sk-toggleable__label-arrow:before {content: \"▾\";}#sk-container-id-1 div.sk-estimator input.sk-toggleable__control:checked~label.sk-toggleable__label {background-color: #d4ebff;}#sk-container-id-1 div.sk-label input.sk-toggleable__control:checked~label.sk-toggleable__label {background-color: #d4ebff;}#sk-container-id-1 input.sk-hidden--visually {border: 0;clip: rect(1px 1px 1px 1px);clip: rect(1px, 1px, 1px, 1px);height: 1px;margin: -1px;overflow: hidden;padding: 0;position: absolute;width: 1px;}#sk-container-id-1 div.sk-estimator {font-family: monospace;background-color: #f0f8ff;border: 1px dotted black;border-radius: 0.25em;box-sizing: border-box;margin-bottom: 0.5em;}#sk-container-id-1 div.sk-estimator:hover {background-color: #d4ebff;}#sk-container-id-1 div.sk-parallel-item::after {content: \"\";width: 100%;border-bottom: 1px solid gray;flex-grow: 1;}#sk-container-id-1 div.sk-label:hover label.sk-toggleable__label {background-color: #d4ebff;}#sk-container-id-1 div.sk-serial::before {content: \"\";position: absolute;border-left: 1px solid gray;box-sizing: border-box;top: 0;bottom: 0;left: 50%;z-index: 0;}#sk-container-id-1 div.sk-serial {display: flex;flex-direction: column;align-items: center;background-color: white;padding-right: 0.2em;padding-left: 0.2em;position: relative;}#sk-container-id-1 div.sk-item {position: relative;z-index: 1;}#sk-container-id-1 div.sk-parallel {display: flex;align-items: stretch;justify-content: center;background-color: white;position: relative;}#sk-container-id-1 div.sk-item::before, #sk-container-id-1 div.sk-parallel-item::before {content: \"\";position: absolute;border-left: 1px solid gray;box-sizing: border-box;top: 0;bottom: 0;left: 50%;z-index: -1;}#sk-container-id-1 div.sk-parallel-item {display: flex;flex-direction: column;z-index: 1;position: relative;background-color: white;}#sk-container-id-1 div.sk-parallel-item:first-child::after {align-self: flex-end;width: 50%;}#sk-container-id-1 div.sk-parallel-item:last-child::after {align-self: flex-start;width: 50%;}#sk-container-id-1 div.sk-parallel-item:only-child::after {width: 0;}#sk-container-id-1 div.sk-dashed-wrapped {border: 1px dashed gray;margin: 0 0.4em 0.5em 0.4em;box-sizing: border-box;padding-bottom: 0.4em;background-color: white;}#sk-container-id-1 div.sk-label label {font-family: monospace;font-weight: bold;display: inline-block;line-height: 1.2em;}#sk-container-id-1 div.sk-label-container {text-align: center;}#sk-container-id-1 div.sk-container {/* jupyter's `normalize.less` sets `[hidden] { display: none; }` but bootstrap.min.css set `[hidden] { display: none !important; }` so we also need the `!important` here to be able to override the default hidden behavior on the sphinx rendered scikit-learn.org. See: https://github.com/scikit-learn/scikit-learn/issues/21755 */display: inline-block !important;position: relative;}#sk-container-id-1 div.sk-text-repr-fallback {display: none;}</style><div id=\"sk-container-id-1\" class=\"sk-top-container\"><div class=\"sk-text-repr-fallback\"><pre>RandomForestClassifier(n_estimators=80)</pre><b>In a Jupyter environment, please rerun this cell to show the HTML representation or trust the notebook. <br />On GitHub, the HTML representation is unable to render, please try loading this page with nbviewer.org.</b></div><div class=\"sk-container\" hidden><div class=\"sk-item\"><div class=\"sk-estimator sk-toggleable\"><input class=\"sk-toggleable__control sk-hidden--visually\" id=\"sk-estimator-id-1\" type=\"checkbox\" checked><label for=\"sk-estimator-id-1\" class=\"sk-toggleable__label sk-toggleable__label-arrow\">RandomForestClassifier</label><div class=\"sk-toggleable__content\"><pre>RandomForestClassifier(n_estimators=80)</pre></div></div></div></div></div>"
      ],
      "text/plain": [
       "RandomForestClassifier(n_estimators=80)"
      ]
     },
     "execution_count": 47,
     "metadata": {},
     "output_type": "execute_result"
    }
   ],
   "source": [
    "classifier.fit(train_data, train_data_target)"
   ]
  },
  {
   "cell_type": "code",
   "execution_count": 48,
   "id": "85602ab9",
   "metadata": {},
   "outputs": [],
   "source": [
    "pred_train = classifier.predict(train_data)\n",
    "pred_valid = classifier.predict(valid_data)"
   ]
  },
  {
   "cell_type": "markdown",
   "id": "33da5d2a",
   "metadata": {},
   "source": [
    "<h3 align=right style=\"line-height:200%;font-family:vazir;color:#0099cc\">\n",
    "<font face=\"vazir\" color=\"#0099cc\">\n",
    "معیار ارزیابی\n",
    "</font>\n",
    "</h3>\n",
    "\n",
    "<p dir=rtl style=\"direction: rtl; text-align: justify; line-height:200%; font-family:vazir; font-size:medium\">\n",
    "<font face=\"vazir\" size=3>\n",
    "    معیاری که برای ارزیابی عملکرد مدل انتخاب کرده‌ایم، <code>f1_score</code> نام دارد.\n",
    "    <br>\n",
    "    این معیار، سنجه ارزیابی کیفیت مدل شماست. به عبارت بهتر در سامانه داوری هم از همین معیار برای نمره‌دهی استفاده شده است.\n",
    "    <br>\n",
    "    پیشنهاد می‌شود با توجه به این معیار، عملکرد مدل خود را بر روی مجموعه داده آموزش یا اعتبارسنجی ارزیابی کنید.\n",
    "</font>\n",
    "</p>"
   ]
  },
  {
   "cell_type": "code",
   "execution_count": 49,
   "id": "cee1b883",
   "metadata": {},
   "outputs": [],
   "source": [
    "# evaluate model\n",
    "from sklearn.metrics import  f1_score, classification_report, confusion_matrix\n"
   ]
  },
  {
   "cell_type": "code",
   "execution_count": 50,
   "id": "2cd7ee0f",
   "metadata": {},
   "outputs": [
    {
     "name": "stdout",
     "output_type": "stream",
     "text": [
      "F1 Score: 0.8265158798417014\n",
      "Classification Report:\n",
      "               precision    recall  f1-score   support\n",
      "\n",
      "         Int       0.83      0.77      0.80     40161\n",
      "        Work       0.83      0.88      0.85     50754\n",
      "\n",
      "    accuracy                           0.83     90915\n",
      "   macro avg       0.83      0.82      0.82     90915\n",
      "weighted avg       0.83      0.83      0.83     90915\n",
      "\n",
      "Confusion Matrix:\n",
      " [[30724  9437]\n",
      " [ 6250 44504]]\n"
     ]
    }
   ],
   "source": [
    "# Calculate F1 score\n",
    "f1 = f1_score(train_data_target, pred_train, average='weighted')  # For multi-class problems, use 'weighted'\n",
    "print(\"F1 Score:\", f1)\n",
    "\n",
    "# Generate a classification report\n",
    "report = classification_report(train_data_target, pred_train)\n",
    "print(\"Classification Report:\\n\", report)\n",
    "\n",
    "# Generate a confusion matrix\n",
    "cm = confusion_matrix(train_data_target, pred_train)\n",
    "print(\"Confusion Matrix:\\n\", cm)"
   ]
  },
  {
   "cell_type": "code",
   "execution_count": 51,
   "id": "c5099efd",
   "metadata": {},
   "outputs": [
    {
     "name": "stdout",
     "output_type": "stream",
     "text": [
      "F1 Score: 0.7729608785232818\n",
      "Classification Report:\n",
      "               precision    recall  f1-score   support\n",
      "\n",
      "         Int       0.83      0.77      0.80     40161\n",
      "        Work       0.83      0.88      0.85     50754\n",
      "\n",
      "    accuracy                           0.83     90915\n",
      "   macro avg       0.83      0.82      0.82     90915\n",
      "weighted avg       0.83      0.83      0.83     90915\n",
      "\n",
      "Confusion Matrix:\n",
      " [[30724  9437]\n",
      " [ 6250 44504]]\n"
     ]
    }
   ],
   "source": [
    "# Calculate F1 score\n",
    "f1 = f1_score(valid_data_target, pred_valid, average='weighted')  # For multi-class problems, use 'weighted'\n",
    "print(\"F1 Score:\", f1)\n",
    "\n",
    "# Generate a classification report\n",
    "report = classification_report(train_data_target, pred_train)\n",
    "print(\"Classification Report:\\n\", report)\n",
    "\n",
    "# Generate a confusion matrix\n",
    "cm = confusion_matrix(train_data_target, pred_train)\n",
    "print(\"Confusion Matrix:\\n\", cm)"
   ]
  },
  {
   "cell_type": "code",
   "execution_count": null,
   "id": "aa33c6a8",
   "metadata": {},
   "outputs": [],
   "source": []
  },
  {
   "cell_type": "markdown",
   "id": "ddad09cf",
   "metadata": {},
   "source": [
    "<p dir=rtl style=\"direction: rtl; text-align: justify; line-height:200%; font-family:vazir; font-size:medium\">\n",
    "<font color=\"red\"><b color='red'>توجه:</b></font>\n",
    "<font face=\"vazir\" size=3>\n",
    " جهت کسب امتیاز کامل نیاز است تا پاسخ شما حداقل امتیاز <code>75%</code> را با توجه به معیار معرفی‌شده کسب نماید.\n",
    "</font>\n",
    "</p>"
   ]
  },
  {
   "attachments": {},
   "cell_type": "markdown",
   "id": "4e9984de",
   "metadata": {},
   "source": [
    "<h2 align=right style=\"line-height:200%;font-family:vazir;color:#0099cc\">\n",
    "<font face=\"vazir\" color=\"#0099cc\">\n",
    " پیش‌بینی برای داده تست و خروجی\n",
    "</font>\n",
    "</h2>\n",
    "\n",
    "<p dir=rtl style=\"direction: rtl;text-align: right;line-height:200%;font-family:vazir;font-size:medium\">\n",
    "<font face=\"vazir\" size=3>\n",
    "    پس از مهندسی ویژگی و مدلسازی، الگوریتمی دارید که می‌تواند شما را از متغیرهای مستقل به متغیر هدف برساند.\n",
    "    <br>\n",
    "    از این مدل برای پیش‌بینی نمونه‌های موجود در داده تست استفاده کنید و نتایج را در قالب جدول (<code>dataframe</code>) زیر آماده کنید.\n",
    "</font>\n",
    "</p>\n",
    "\n",
    "<div dir=rtl style=\"direction: rtl;text-align: right;line-height:200%;font-family:vazir;font-size:medium\">\n",
    "<font face=\"vazir\" size=3>\n",
    "    \n",
    "|ستون|توضیحات|\n",
    "|------|---|\n",
    "|TripReason|دلیل سفر|\n",
    "    \n",
    "</font>\n",
    "</div>\n",
    "\n"
   ]
  },
  {
   "cell_type": "markdown",
   "id": "c2f6d82d",
   "metadata": {},
   "source": [
    "<p dir=rtl style=\"direction: rtl;text-align: right;line-height:200%;font-family:vazir;font-size:medium\">\n",
    "<font face=\"vazir\" size=3>\n",
    "    اسم دیتافریم باید <i>submission</i> باشد؛ در غیر این صورت، سامانه داوری نمی‌تواند تلاش‌ شما را ارزیابی کند.\n",
    "    <br>\n",
    "    این دیتافریم تنها شامل ۱ ستون با اسم <i>TripReason</i> است و ۴۳۲۹۳ سطر دارد.\n",
    "    <br>\n",
    "    به ازای هر سطر موجود در دیتافریم <i>test</i> شما باید یک مقدار پیشبینی شده داشته باشید.\n",
    "    <br>\n",
    "    جدول زیر، ۵ سطر ابتدایی دیتافریم <code>submission</code> را نشان می‌دهد. البته در جواب شما، مقادیر ستون <i>TripReason</i> ممکن است متفاوت باشد.\n",
    "</font>\n",
    "</p>\n",
    "\n",
    "<div style=\"text-align: right;line-height:200%;font-family:vazir;font-size:medium\">\n",
    "<font face=\"vazir\" size=3>\n",
    "    \n",
    "||TripReason|\n",
    "|----|-----|\n",
    "|0|Work|\n",
    "|1|Work|\n",
    "|2|Int|\n",
    "|3|Int|\n",
    "|4|Work|\n",
    "\n",
    "</font>\n",
    "</div>\n",
    "\n"
   ]
  },
  {
   "cell_type": "code",
   "execution_count": 52,
   "id": "47f74eeb",
   "metadata": {},
   "outputs": [],
   "source": [
    "pred_test = classifier.predict(test_data)"
   ]
  },
  {
   "cell_type": "code",
   "execution_count": 53,
   "id": "3d4a0844",
   "metadata": {},
   "outputs": [],
   "source": [
    "# predict test samples\n",
    "submission = pd.DataFrame()\n"
   ]
  },
  {
   "cell_type": "code",
   "execution_count": 54,
   "id": "0592b577",
   "metadata": {},
   "outputs": [],
   "source": [
    "submission['TripReason'] = pred_test\n"
   ]
  },
  {
   "cell_type": "markdown",
   "id": "0a77e7cd",
   "metadata": {},
   "source": [
    "<h2 align=right style=\"line-height:200%;font-family:vazir;color:#0099cc\">\n",
    "<font face=\"vazir\" color=\"#0099cc\">\n",
    "<b>سلول جواب‌ساز</b>\n",
    "</font>\n",
    "</h2>\n",
    "\n",
    "<p dir=rtl style=\"direction: rtl; text-align: justify; line-height:200%; font-family:vazir; font-size:medium\">\n",
    "<font face=\"vazir\" size=3>\n",
    "    برای ساخته‌شدن فایل <code>result.zip</code> سلول زیر را اجرا کنید. توجه داشته باشید که پیش از اجرای سلول زیر تغییرات اعمال شده در نت‌بوک را ذخیره کرده باشید (<code>ctrl+s</code>) تا در صورت نیاز به پشتیبانی امکان بررسی کد شما وجود داشته باشد.\n",
    "</font>\n",
    "</p>"
   ]
  },
  {
   "cell_type": "code",
   "execution_count": 55,
   "id": "2c3bcd76",
   "metadata": {},
   "outputs": [
    {
     "name": "stdout",
     "output_type": "stream",
     "text": [
      "File Paths:\n",
      "['tafrihi.ipynb', 'submission.csv']\n"
     ]
    }
   ],
   "source": [
    "import zipfile\n",
    "import joblib\n",
    "\n",
    "def compress(file_names):\n",
    "    print(\"File Paths:\")\n",
    "    print(file_names)\n",
    "    compression = zipfile.ZIP_DEFLATED\n",
    "    with zipfile.ZipFile(\"result.zip\", mode=\"w\") as zf:\n",
    "        for file_name in file_names:\n",
    "            zf.write('./' + file_name, file_name, compress_type=compression)\n",
    "            \n",
    "submission.to_csv('submission.csv', index=False)\n",
    "file_names = ['tafrihi.ipynb', 'submission.csv']\n",
    "compress(file_names)"
   ]
  },
  {
   "cell_type": "code",
   "execution_count": null,
   "id": "6ac6e798",
   "metadata": {},
   "outputs": [],
   "source": []
  }
 ],
 "metadata": {
  "kernelspec": {
   "display_name": "qenv",
   "language": "python",
   "name": "python3"
  },
  "language_info": {
   "codemirror_mode": {
    "name": "ipython",
    "version": 3
   },
   "file_extension": ".py",
   "mimetype": "text/x-python",
   "name": "python",
   "nbconvert_exporter": "python",
   "pygments_lexer": "ipython3",
   "version": "3.9.13"
  }
 },
 "nbformat": 4,
 "nbformat_minor": 5
}
